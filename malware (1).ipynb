{
  "cells": [
    {
      "cell_type": "code",
      "execution_count": null,
      "metadata": {
        "colab": {
          "base_uri": "https://localhost:8080/"
        },
        "id": "5uLEbZGy16uL",
        "outputId": "114ea2e6-37af-498e-aaf2-cc50c6dbfd05"
      },
      "outputs": [
        {
          "output_type": "stream",
          "name": "stdout",
          "text": [
            "Requirement already satisfied: torch in /usr/local/lib/python3.11/dist-packages (2.6.0+cu124)\n",
            "Collecting torch-geometric\n",
            "  Downloading torch_geometric-2.6.1-py3-none-any.whl.metadata (63 kB)\n",
            "\u001b[2K     \u001b[90m━━━━━━━━━━━━━━━━━━━━━━━━━━━━━━━━━━━━━━━━\u001b[0m \u001b[32m63.1/63.1 kB\u001b[0m \u001b[31m1.7 MB/s\u001b[0m eta \u001b[36m0:00:00\u001b[0m\n",
            "\u001b[?25hRequirement already satisfied: scikit-learn in /usr/local/lib/python3.11/dist-packages (1.6.1)\n",
            "Requirement already satisfied: pandas in /usr/local/lib/python3.11/dist-packages (2.2.2)\n",
            "Requirement already satisfied: networkx in /usr/local/lib/python3.11/dist-packages (3.4.2)\n",
            "Requirement already satisfied: filelock in /usr/local/lib/python3.11/dist-packages (from torch) (3.18.0)\n",
            "Requirement already satisfied: typing-extensions>=4.10.0 in /usr/local/lib/python3.11/dist-packages (from torch) (4.13.2)\n",
            "Requirement already satisfied: jinja2 in /usr/local/lib/python3.11/dist-packages (from torch) (3.1.6)\n",
            "Requirement already satisfied: fsspec in /usr/local/lib/python3.11/dist-packages (from torch) (2025.3.2)\n",
            "Collecting nvidia-cuda-nvrtc-cu12==12.4.127 (from torch)\n",
            "  Downloading nvidia_cuda_nvrtc_cu12-12.4.127-py3-none-manylinux2014_x86_64.whl.metadata (1.5 kB)\n",
            "Collecting nvidia-cuda-runtime-cu12==12.4.127 (from torch)\n",
            "  Downloading nvidia_cuda_runtime_cu12-12.4.127-py3-none-manylinux2014_x86_64.whl.metadata (1.5 kB)\n",
            "Collecting nvidia-cuda-cupti-cu12==12.4.127 (from torch)\n",
            "  Downloading nvidia_cuda_cupti_cu12-12.4.127-py3-none-manylinux2014_x86_64.whl.metadata (1.6 kB)\n",
            "Collecting nvidia-cudnn-cu12==9.1.0.70 (from torch)\n",
            "  Downloading nvidia_cudnn_cu12-9.1.0.70-py3-none-manylinux2014_x86_64.whl.metadata (1.6 kB)\n",
            "Collecting nvidia-cublas-cu12==12.4.5.8 (from torch)\n",
            "  Downloading nvidia_cublas_cu12-12.4.5.8-py3-none-manylinux2014_x86_64.whl.metadata (1.5 kB)\n",
            "Collecting nvidia-cufft-cu12==11.2.1.3 (from torch)\n",
            "  Downloading nvidia_cufft_cu12-11.2.1.3-py3-none-manylinux2014_x86_64.whl.metadata (1.5 kB)\n",
            "Collecting nvidia-curand-cu12==10.3.5.147 (from torch)\n",
            "  Downloading nvidia_curand_cu12-10.3.5.147-py3-none-manylinux2014_x86_64.whl.metadata (1.5 kB)\n",
            "Collecting nvidia-cusolver-cu12==11.6.1.9 (from torch)\n",
            "  Downloading nvidia_cusolver_cu12-11.6.1.9-py3-none-manylinux2014_x86_64.whl.metadata (1.6 kB)\n",
            "Collecting nvidia-cusparse-cu12==12.3.1.170 (from torch)\n",
            "  Downloading nvidia_cusparse_cu12-12.3.1.170-py3-none-manylinux2014_x86_64.whl.metadata (1.6 kB)\n",
            "Requirement already satisfied: nvidia-cusparselt-cu12==0.6.2 in /usr/local/lib/python3.11/dist-packages (from torch) (0.6.2)\n",
            "Requirement already satisfied: nvidia-nccl-cu12==2.21.5 in /usr/local/lib/python3.11/dist-packages (from torch) (2.21.5)\n",
            "Requirement already satisfied: nvidia-nvtx-cu12==12.4.127 in /usr/local/lib/python3.11/dist-packages (from torch) (12.4.127)\n",
            "Collecting nvidia-nvjitlink-cu12==12.4.127 (from torch)\n",
            "  Downloading nvidia_nvjitlink_cu12-12.4.127-py3-none-manylinux2014_x86_64.whl.metadata (1.5 kB)\n",
            "Requirement already satisfied: triton==3.2.0 in /usr/local/lib/python3.11/dist-packages (from torch) (3.2.0)\n",
            "Requirement already satisfied: sympy==1.13.1 in /usr/local/lib/python3.11/dist-packages (from torch) (1.13.1)\n",
            "Requirement already satisfied: mpmath<1.4,>=1.1.0 in /usr/local/lib/python3.11/dist-packages (from sympy==1.13.1->torch) (1.3.0)\n",
            "Requirement already satisfied: aiohttp in /usr/local/lib/python3.11/dist-packages (from torch-geometric) (3.11.15)\n",
            "Requirement already satisfied: numpy in /usr/local/lib/python3.11/dist-packages (from torch-geometric) (2.0.2)\n",
            "Requirement already satisfied: psutil>=5.8.0 in /usr/local/lib/python3.11/dist-packages (from torch-geometric) (5.9.5)\n",
            "Requirement already satisfied: pyparsing in /usr/local/lib/python3.11/dist-packages (from torch-geometric) (3.2.3)\n",
            "Requirement already satisfied: requests in /usr/local/lib/python3.11/dist-packages (from torch-geometric) (2.32.3)\n",
            "Requirement already satisfied: tqdm in /usr/local/lib/python3.11/dist-packages (from torch-geometric) (4.67.1)\n",
            "Requirement already satisfied: scipy>=1.6.0 in /usr/local/lib/python3.11/dist-packages (from scikit-learn) (1.15.3)\n",
            "Requirement already satisfied: joblib>=1.2.0 in /usr/local/lib/python3.11/dist-packages (from scikit-learn) (1.5.0)\n",
            "Requirement already satisfied: threadpoolctl>=3.1.0 in /usr/local/lib/python3.11/dist-packages (from scikit-learn) (3.6.0)\n",
            "Requirement already satisfied: python-dateutil>=2.8.2 in /usr/local/lib/python3.11/dist-packages (from pandas) (2.9.0.post0)\n",
            "Requirement already satisfied: pytz>=2020.1 in /usr/local/lib/python3.11/dist-packages (from pandas) (2025.2)\n",
            "Requirement already satisfied: tzdata>=2022.7 in /usr/local/lib/python3.11/dist-packages (from pandas) (2025.2)\n",
            "Requirement already satisfied: six>=1.5 in /usr/local/lib/python3.11/dist-packages (from python-dateutil>=2.8.2->pandas) (1.17.0)\n",
            "Requirement already satisfied: aiohappyeyeballs>=2.3.0 in /usr/local/lib/python3.11/dist-packages (from aiohttp->torch-geometric) (2.6.1)\n",
            "Requirement already satisfied: aiosignal>=1.1.2 in /usr/local/lib/python3.11/dist-packages (from aiohttp->torch-geometric) (1.3.2)\n",
            "Requirement already satisfied: attrs>=17.3.0 in /usr/local/lib/python3.11/dist-packages (from aiohttp->torch-geometric) (25.3.0)\n",
            "Requirement already satisfied: frozenlist>=1.1.1 in /usr/local/lib/python3.11/dist-packages (from aiohttp->torch-geometric) (1.6.0)\n",
            "Requirement already satisfied: multidict<7.0,>=4.5 in /usr/local/lib/python3.11/dist-packages (from aiohttp->torch-geometric) (6.4.3)\n",
            "Requirement already satisfied: propcache>=0.2.0 in /usr/local/lib/python3.11/dist-packages (from aiohttp->torch-geometric) (0.3.1)\n",
            "Requirement already satisfied: yarl<2.0,>=1.17.0 in /usr/local/lib/python3.11/dist-packages (from aiohttp->torch-geometric) (1.20.0)\n",
            "Requirement already satisfied: MarkupSafe>=2.0 in /usr/local/lib/python3.11/dist-packages (from jinja2->torch) (3.0.2)\n",
            "Requirement already satisfied: charset-normalizer<4,>=2 in /usr/local/lib/python3.11/dist-packages (from requests->torch-geometric) (3.4.2)\n",
            "Requirement already satisfied: idna<4,>=2.5 in /usr/local/lib/python3.11/dist-packages (from requests->torch-geometric) (3.10)\n",
            "Requirement already satisfied: urllib3<3,>=1.21.1 in /usr/local/lib/python3.11/dist-packages (from requests->torch-geometric) (2.4.0)\n",
            "Requirement already satisfied: certifi>=2017.4.17 in /usr/local/lib/python3.11/dist-packages (from requests->torch-geometric) (2025.4.26)\n",
            "Downloading nvidia_cublas_cu12-12.4.5.8-py3-none-manylinux2014_x86_64.whl (363.4 MB)\n",
            "\u001b[2K   \u001b[90m━━━━━━━━━━━━━━━━━━━━━━━━━━━━━━━━━━━━━━━━\u001b[0m \u001b[32m363.4/363.4 MB\u001b[0m \u001b[31m4.7 MB/s\u001b[0m eta \u001b[36m0:00:00\u001b[0m\n",
            "\u001b[?25hDownloading nvidia_cuda_cupti_cu12-12.4.127-py3-none-manylinux2014_x86_64.whl (13.8 MB)\n",
            "\u001b[2K   \u001b[90m━━━━━━━━━━━━━━━━━━━━━━━━━━━━━━━━━━━━━━━━\u001b[0m \u001b[32m13.8/13.8 MB\u001b[0m \u001b[31m53.1 MB/s\u001b[0m eta \u001b[36m0:00:00\u001b[0m\n",
            "\u001b[?25hDownloading nvidia_cuda_nvrtc_cu12-12.4.127-py3-none-manylinux2014_x86_64.whl (24.6 MB)\n",
            "\u001b[2K   \u001b[90m━━━━━━━━━━━━━━━━━━━━━━━━━━━━━━━━━━━━━━━━\u001b[0m \u001b[32m24.6/24.6 MB\u001b[0m \u001b[31m33.2 MB/s\u001b[0m eta \u001b[36m0:00:00\u001b[0m\n",
            "\u001b[?25hDownloading nvidia_cuda_runtime_cu12-12.4.127-py3-none-manylinux2014_x86_64.whl (883 kB)\n",
            "\u001b[2K   \u001b[90m━━━━━━━━━━━━━━━━━━━━━━━━━━━━━━━━━━━━━━━━\u001b[0m \u001b[32m883.7/883.7 kB\u001b[0m \u001b[31m21.0 MB/s\u001b[0m eta \u001b[36m0:00:00\u001b[0m\n",
            "\u001b[?25hDownloading nvidia_cudnn_cu12-9.1.0.70-py3-none-manylinux2014_x86_64.whl (664.8 MB)\n",
            "\u001b[2K   \u001b[90m━━━━━━━━━━━━━━━━━━━━━━━━━━━━━━━━━━━━━━━━\u001b[0m \u001b[32m664.8/664.8 MB\u001b[0m \u001b[31m2.9 MB/s\u001b[0m eta \u001b[36m0:00:00\u001b[0m\n",
            "\u001b[?25hDownloading nvidia_cufft_cu12-11.2.1.3-py3-none-manylinux2014_x86_64.whl (211.5 MB)\n",
            "\u001b[2K   \u001b[90m━━━━━━━━━━━━━━━━━━━━━━━━━━━━━━━━━━━━━━━━\u001b[0m \u001b[32m211.5/211.5 MB\u001b[0m \u001b[31m5.7 MB/s\u001b[0m eta \u001b[36m0:00:00\u001b[0m\n",
            "\u001b[?25hDownloading nvidia_curand_cu12-10.3.5.147-py3-none-manylinux2014_x86_64.whl (56.3 MB)\n",
            "\u001b[2K   \u001b[90m━━━━━━━━━━━━━━━━━━━━━━━━━━━━━━━━━━━━━━━━\u001b[0m \u001b[32m56.3/56.3 MB\u001b[0m \u001b[31m12.2 MB/s\u001b[0m eta \u001b[36m0:00:00\u001b[0m\n",
            "\u001b[?25hDownloading nvidia_cusolver_cu12-11.6.1.9-py3-none-manylinux2014_x86_64.whl (127.9 MB)\n",
            "\u001b[2K   \u001b[90m━━━━━━━━━━━━━━━━━━━━━━━━━━━━━━━━━━━━━━━━\u001b[0m \u001b[32m127.9/127.9 MB\u001b[0m \u001b[31m7.2 MB/s\u001b[0m eta \u001b[36m0:00:00\u001b[0m\n",
            "\u001b[?25hDownloading nvidia_cusparse_cu12-12.3.1.170-py3-none-manylinux2014_x86_64.whl (207.5 MB)\n",
            "\u001b[2K   \u001b[90m━━━━━━━━━━━━━━━━━━━━━━━━━━━━━━━━━━━━━━━━\u001b[0m \u001b[32m207.5/207.5 MB\u001b[0m \u001b[31m5.1 MB/s\u001b[0m eta \u001b[36m0:00:00\u001b[0m\n",
            "\u001b[?25hDownloading nvidia_nvjitlink_cu12-12.4.127-py3-none-manylinux2014_x86_64.whl (21.1 MB)\n",
            "\u001b[2K   \u001b[90m━━━━━━━━━━━━━━━━━━━━━━━━━━━━━━━━━━━━━━━━\u001b[0m \u001b[32m21.1/21.1 MB\u001b[0m \u001b[31m46.4 MB/s\u001b[0m eta \u001b[36m0:00:00\u001b[0m\n",
            "\u001b[?25hDownloading torch_geometric-2.6.1-py3-none-any.whl (1.1 MB)\n",
            "\u001b[2K   \u001b[90m━━━━━━━━━━━━━━━━━━━━━━━━━━━━━━━━━━━━━━━━\u001b[0m \u001b[32m1.1/1.1 MB\u001b[0m \u001b[31m37.3 MB/s\u001b[0m eta \u001b[36m0:00:00\u001b[0m\n",
            "\u001b[?25hInstalling collected packages: nvidia-nvjitlink-cu12, nvidia-curand-cu12, nvidia-cufft-cu12, nvidia-cuda-runtime-cu12, nvidia-cuda-nvrtc-cu12, nvidia-cuda-cupti-cu12, nvidia-cublas-cu12, nvidia-cusparse-cu12, nvidia-cudnn-cu12, torch-geometric, nvidia-cusolver-cu12\n",
            "  Attempting uninstall: nvidia-nvjitlink-cu12\n",
            "    Found existing installation: nvidia-nvjitlink-cu12 12.5.82\n",
            "    Uninstalling nvidia-nvjitlink-cu12-12.5.82:\n",
            "      Successfully uninstalled nvidia-nvjitlink-cu12-12.5.82\n",
            "  Attempting uninstall: nvidia-curand-cu12\n",
            "    Found existing installation: nvidia-curand-cu12 10.3.6.82\n",
            "    Uninstalling nvidia-curand-cu12-10.3.6.82:\n",
            "      Successfully uninstalled nvidia-curand-cu12-10.3.6.82\n",
            "  Attempting uninstall: nvidia-cufft-cu12\n",
            "    Found existing installation: nvidia-cufft-cu12 11.2.3.61\n",
            "    Uninstalling nvidia-cufft-cu12-11.2.3.61:\n",
            "      Successfully uninstalled nvidia-cufft-cu12-11.2.3.61\n",
            "  Attempting uninstall: nvidia-cuda-runtime-cu12\n",
            "    Found existing installation: nvidia-cuda-runtime-cu12 12.5.82\n",
            "    Uninstalling nvidia-cuda-runtime-cu12-12.5.82:\n",
            "      Successfully uninstalled nvidia-cuda-runtime-cu12-12.5.82\n",
            "  Attempting uninstall: nvidia-cuda-nvrtc-cu12\n",
            "    Found existing installation: nvidia-cuda-nvrtc-cu12 12.5.82\n",
            "    Uninstalling nvidia-cuda-nvrtc-cu12-12.5.82:\n",
            "      Successfully uninstalled nvidia-cuda-nvrtc-cu12-12.5.82\n",
            "  Attempting uninstall: nvidia-cuda-cupti-cu12\n",
            "    Found existing installation: nvidia-cuda-cupti-cu12 12.5.82\n",
            "    Uninstalling nvidia-cuda-cupti-cu12-12.5.82:\n",
            "      Successfully uninstalled nvidia-cuda-cupti-cu12-12.5.82\n",
            "  Attempting uninstall: nvidia-cublas-cu12\n",
            "    Found existing installation: nvidia-cublas-cu12 12.5.3.2\n",
            "    Uninstalling nvidia-cublas-cu12-12.5.3.2:\n",
            "      Successfully uninstalled nvidia-cublas-cu12-12.5.3.2\n",
            "  Attempting uninstall: nvidia-cusparse-cu12\n",
            "    Found existing installation: nvidia-cusparse-cu12 12.5.1.3\n",
            "    Uninstalling nvidia-cusparse-cu12-12.5.1.3:\n",
            "      Successfully uninstalled nvidia-cusparse-cu12-12.5.1.3\n",
            "  Attempting uninstall: nvidia-cudnn-cu12\n",
            "    Found existing installation: nvidia-cudnn-cu12 9.3.0.75\n",
            "    Uninstalling nvidia-cudnn-cu12-9.3.0.75:\n",
            "      Successfully uninstalled nvidia-cudnn-cu12-9.3.0.75\n",
            "  Attempting uninstall: nvidia-cusolver-cu12\n",
            "    Found existing installation: nvidia-cusolver-cu12 11.6.3.83\n",
            "    Uninstalling nvidia-cusolver-cu12-11.6.3.83:\n",
            "      Successfully uninstalled nvidia-cusolver-cu12-11.6.3.83\n",
            "Successfully installed nvidia-cublas-cu12-12.4.5.8 nvidia-cuda-cupti-cu12-12.4.127 nvidia-cuda-nvrtc-cu12-12.4.127 nvidia-cuda-runtime-cu12-12.4.127 nvidia-cudnn-cu12-9.1.0.70 nvidia-cufft-cu12-11.2.1.3 nvidia-curand-cu12-10.3.5.147 nvidia-cusolver-cu12-11.6.1.9 nvidia-cusparse-cu12-12.3.1.170 nvidia-nvjitlink-cu12-12.4.127 torch-geometric-2.6.1\n"
          ]
        }
      ],
      "source": [
        "!pip install torch torch-geometric scikit-learn pandas networkx"
      ]
    },
    {
      "cell_type": "code",
      "source": [
        "import numpy\n",
        "print(numpy.__version__)"
      ],
      "metadata": {
        "id": "0o0bf8X4LCEy",
        "outputId": "a469cbf9-ea43-4ec6-baa4-2259bc4ff40b",
        "colab": {
          "base_uri": "https://localhost:8080/"
        }
      },
      "execution_count": null,
      "outputs": [
        {
          "output_type": "stream",
          "name": "stdout",
          "text": [
            "2.0.2\n"
          ]
        }
      ]
    },
    {
      "cell_type": "code",
      "source": [
        "import torch\n",
        "print(torch.__version__)"
      ],
      "metadata": {
        "colab": {
          "base_uri": "https://localhost:8080/"
        },
        "id": "OJnGWcdmufaO",
        "outputId": "59737757-147d-47cc-825f-5d0580a8b432"
      },
      "execution_count": null,
      "outputs": [
        {
          "output_type": "stream",
          "name": "stdout",
          "text": [
            "2.6.0+cu124\n"
          ]
        }
      ]
    },
    {
      "cell_type": "code",
      "execution_count": null,
      "metadata": {
        "colab": {
          "base_uri": "https://localhost:8080/"
        },
        "id": "FGlEOUz6_kjZ",
        "outputId": "9a127bee-c6a1-4ad4-d336-a735b93d7536"
      },
      "outputs": [
        {
          "output_type": "stream",
          "name": "stdout",
          "text": [
            "\u001b[2K     \u001b[90m━━━━━━━━━━━━━━━━━━━━━━━━━━━━━━━━━━━━━━━━\u001b[0m \u001b[32m10.8/10.8 MB\u001b[0m \u001b[31m27.6 MB/s\u001b[0m eta \u001b[36m0:00:00\u001b[0m\n",
            "\u001b[2K     \u001b[90m━━━━━━━━━━━━━━━━━━━━━━━━━━━━━━━━━━━━━━━━\u001b[0m \u001b[32m5.0/5.0 MB\u001b[0m \u001b[31m38.8 MB/s\u001b[0m eta \u001b[36m0:00:00\u001b[0m\n",
            "\u001b[?25h"
          ]
        }
      ],
      "source": [
        "# Torch-scatter and torch-sparse compatible with torch==2.6.0+cu124\n",
        "!pip install torch-scatter -f https://data.pyg.org/whl/torch-2.6.0+cu124.html -q\n",
        "!pip install torch-sparse -f https://data.pyg.org/whl/torch-2.6.0+cu124.html -q"
      ]
    },
    {
      "cell_type": "code",
      "execution_count": null,
      "metadata": {
        "id": "eRSBddlF81Wc",
        "colab": {
          "base_uri": "https://localhost:8080/"
        },
        "outputId": "b0184fa3-c013-4719-cfa4-9e4d2f8b4d2e"
      },
      "outputs": [
        {
          "output_type": "stream",
          "name": "stdout",
          "text": [
            "Mounted at /content/drive\n"
          ]
        }
      ],
      "source": [
        "import pandas as pd\n",
        "import torch\n",
        "from torch_geometric.data import Data\n",
        "from sklearn.metrics.pairwise import cosine_similarity\n",
        "from sklearn.preprocessing import LabelEncoder, StandardScaler\n",
        "import numpy as np\n",
        "\n",
        "from google.colab import drive\n",
        "drive.mount('/content/drive')\n",
        "\n",
        "# Load data\n",
        "df = pd.read_excel(\"/content/drive/MyDrive/Malware/NEWOutput1.xlsx\")\n",
        "\n",
        "# Extract features and labels\n",
        "features = df.iloc[:, 1:].values\n",
        "filenames = df['Filename']\n",
        "\n",
        "# Encode labels (e.g., 'Spyware-TIBS' -> 'Spyware')\n",
        "labels = filenames.str.extract(r'(\\w+)-')[0]\n",
        "le = LabelEncoder()\n",
        "y = le.fit_transform(labels)\n",
        "\n",
        "# Scale features\n",
        "scaler = StandardScaler()\n",
        "features = scaler.fit_transform(features)\n",
        "\n",
        "# Create edges based on similarity\n",
        "sim_matrix = cosine_similarity(features)\n",
        "k = 5  # k nearest neighbors\n",
        "\n",
        "# Creating time windows of 10 rows each (85 windows for 851 rows)\n",
        "window_size = 10\n",
        "num_windows = len(df) // window_size  # Total windows = 851 / 10 = 85\n",
        "data_list = []\n",
        "# Create a writer object to write data to a single Excel file\n",
        "with pd.ExcelWriter('/content/drive/MyDrive/Malware/all_windows_data.xlsx') as writer:\n",
        "    # Store data for each time window in a list\n",
        "    for window in range(num_windows):\n",
        "        start_idx = window * window_size\n",
        "        end_idx = (window + 1) * window_size\n",
        "\n",
        "        # Extract features for the current window\n",
        "        window_features = features[start_idx:end_idx]\n",
        "        window_labels = y[start_idx:end_idx]\n",
        "\n",
        "        # Create a similarity matrix for this window\n",
        "        sim_matrix_window = cosine_similarity(window_features)\n",
        "\n",
        "        # Generate edges for this window based on similarity\n",
        "        edge_index_window = []\n",
        "        for i in range(len(sim_matrix_window)):\n",
        "            top_k = np.argsort(sim_matrix_window[i])[-(k+1):-1]  # Skip self-loop\n",
        "            for j in top_k:\n",
        "                edge_index_window.append([i, j])\n",
        "\n",
        "        # Convert to tensor\n",
        "        edge_index_window = torch.tensor(edge_index_window, dtype=torch.long).t().contiguous()\n",
        "        x_window = torch.tensor(window_features, dtype=torch.float)\n",
        "        y_window = torch.tensor(window_labels, dtype=torch.long)\n",
        "\n",
        "        # Create PyG Data object for this window\n",
        "        data_window = Data(x=x_window, edge_index=edge_index_window, y=y_window)\n",
        "        # Append this window data to the list\n",
        "        data_list.append(data_window)\n",
        "        # Convert x (features) to DataFrame and save to Excel (one sheet per window)\n",
        "        df_x = pd.DataFrame(x_window.numpy())  # Convert tensor to numpy and then to DataFrame\n",
        "        df_x.to_excel(writer, sheet_name=f'Window_{window}_Features', index=False)\n",
        "\n",
        "        # Convert edge_index (edges) to DataFrame (source, target) and save to Excel\n",
        "        df_edges = pd.DataFrame(edge_index_window.numpy().T, columns=[\"Source\", \"Target\"])\n",
        "        df_edges.to_excel(writer, sheet_name=f'Window_{window}_Edges', index=False)\n",
        "\n",
        "        # Convert y (labels) to DataFrame and save to Excel\n",
        "        df_y = pd.DataFrame(y_window.numpy(), columns=[\"Labels\"])\n",
        "        df_y.to_excel(writer, sheet_name=f'Window_{window}_Labels', index=False)\n",
        "\n",
        "# The Excel file will now contain multiple sheets: one for each window's features, edges, and labels\n"
      ]
    },
    {
      "cell_type": "markdown",
      "metadata": {
        "id": "isOGeEaO_oth"
      },
      "source": [
        " Step 1: Dynamic Graph Learning with GraphSAGE"
      ]
    },
    {
      "cell_type": "code",
      "execution_count": null,
      "metadata": {
        "id": "NL0nVO9BJ4b6"
      },
      "outputs": [],
      "source": [
        "import torch\n",
        "import torch.nn.functional as F\n",
        "from torch_geometric.nn import SAGEConv\n",
        "from torch_geometric.loader import DataLoader\n",
        "from torch_geometric.data import Data\n",
        "\n",
        "# Sample GraphSAGE Model\n",
        "class GraphSAGE(torch.nn.Module):\n",
        "    def __init__(self, in_channels, hidden_channels, out_channels):\n",
        "        super(GraphSAGE, self).__init__()\n",
        "        self.conv1 = SAGEConv(in_channels, hidden_channels)\n",
        "        self.conv2 = SAGEConv(hidden_channels, out_channels)\n",
        "\n",
        "    def forward(self, x, edge_index):\n",
        "        x = self.conv1(x, edge_index)\n",
        "        x = F.relu(x)\n",
        "        x = self.conv2(x, edge_index)\n",
        "        return x\n"
      ]
    },
    {
      "cell_type": "markdown",
      "metadata": {
        "id": "U1gyHWOKJ7RB"
      },
      "source": [
        " Train over multiple windows"
      ]
    },
    {
      "cell_type": "code",
      "execution_count": null,
      "metadata": {
        "colab": {
          "base_uri": "https://localhost:8080/"
        },
        "id": "o7vToJ5zJ9Tq",
        "outputId": "d6ef7885-9b39-438a-c671-520dfd45df41"
      },
      "outputs": [
        {
          "output_type": "stream",
          "name": "stdout",
          "text": [
            "Epoch 1, Loss: 173.8658\n",
            "Epoch 2, Loss: 162.7289\n",
            "Epoch 3, Loss: 154.8424\n",
            "Epoch 4, Loss: 148.0088\n",
            "Epoch 5, Loss: 142.0589\n",
            "Epoch 6, Loss: 136.7385\n",
            "Epoch 7, Loss: 131.8487\n",
            "Epoch 8, Loss: 127.2670\n",
            "Epoch 9, Loss: 122.9159\n",
            "Epoch 10, Loss: 118.7442\n",
            "Epoch 11, Loss: 114.7172\n",
            "Epoch 12, Loss: 110.8106\n",
            "Epoch 13, Loss: 107.0073\n",
            "Epoch 14, Loss: 103.2953\n",
            "Epoch 15, Loss: 99.6660\n",
            "Epoch 16, Loss: 96.1137\n",
            "Epoch 17, Loss: 92.6344\n",
            "Epoch 18, Loss: 89.2255\n",
            "Epoch 19, Loss: 85.8858\n",
            "Epoch 20, Loss: 82.6146\n"
          ]
        }
      ],
      "source": [
        "from sklearn.model_selection import train_test_split\n",
        "import torch\n",
        "from torch_geometric.nn import GraphSAGE  # Make sure GraphSAGE is imported\n",
        "import torch.nn.functional as F\n",
        "from sklearn.metrics import accuracy_score, precision_score, recall_score, f1_score\n",
        "import matplotlib.pyplot as plt\n",
        "\n",
        "# Set device to CPU\n",
        "device = torch.device(\"cpu\")\n",
        "\n",
        "# Set model parameters\n",
        "in_channels = data_list[0].num_node_features\n",
        "hidden_channels = 32\n",
        "out_channels = len(set(y))  # number of unique labels\n",
        "\n",
        "# Define the model\n",
        "model = GraphSAGE(in_channels, hidden_channels, out_channels).to(device)\n",
        "\n",
        "# Define optimizer and loss function\n",
        "optimizer = torch.optim.Adam(model.parameters(), lr=0.001)\n",
        "loss_fn = torch.nn.CrossEntropyLoss()\n",
        "\n",
        "# For plotting\n",
        "loss_values = []\n",
        "accuracy_values = []\n",
        "\n",
        "# Train model on each window\n",
        "model.train()\n",
        "for epoch in range(20):  # number of training epochs\n",
        "    total_loss = 0\n",
        "    all_preds = []\n",
        "    all_labels = []\n",
        "\n",
        "    for data in data_list:\n",
        "        data = data.to(device)\n",
        "        optimizer.zero_grad()\n",
        "\n",
        "        out = model(data.x, data.edge_index)\n",
        "        loss = loss_fn(out, data.y)\n",
        "        loss.backward()\n",
        "        optimizer.step()\n",
        "        total_loss += loss.item()\n",
        "    print(f\"Epoch {epoch + 1}, Loss: {total_loss:.4f}\")"
      ]
    },
    {
      "cell_type": "code",
      "source": [
        "print(data.x.shape)\n",
        "# Output: torch.Size([1000, 16]) -> feature_dim = 16\n"
      ],
      "metadata": {
        "colab": {
          "base_uri": "https://localhost:8080/"
        },
        "id": "o3PMfsXw4DfX",
        "outputId": "a63662e9-d6a5-44c7-eb86-a4b92535b0d6"
      },
      "execution_count": null,
      "outputs": [
        {
          "output_type": "stream",
          "name": "stdout",
          "text": [
            "torch.Size([10, 55])\n"
          ]
        }
      ]
    },
    {
      "cell_type": "code",
      "source": [
        "num_classes = len(torch.unique(data.y))\n",
        "print(num_classes)\n"
      ],
      "metadata": {
        "colab": {
          "base_uri": "https://localhost:8080/"
        },
        "id": "62ng7Xsz4Mo6",
        "outputId": "1af471af-024e-4e4b-9ba3-229ca997c04a"
      },
      "execution_count": null,
      "outputs": [
        {
          "output_type": "stream",
          "name": "stdout",
          "text": [
            "1\n"
          ]
        }
      ]
    },
    {
      "cell_type": "markdown",
      "metadata": {
        "id": "ZJ_oG4AhKo5S"
      },
      "source": [
        "GraphSAGE is imported:"
      ]
    },
    {
      "cell_type": "code",
      "execution_count": null,
      "metadata": {
        "id": "6OwqZFyqKrwS"
      },
      "outputs": [],
      "source": [
        "from torch_geometric.nn import GraphSAGE"
      ]
    },
    {
      "cell_type": "markdown",
      "metadata": {
        "id": "xV18NmAMK4S5"
      },
      "source": [
        "Basic Accuracy"
      ]
    },
    {
      "cell_type": "code",
      "execution_count": null,
      "metadata": {
        "id": "HMaWeysvK8rv",
        "colab": {
          "base_uri": "https://localhost:8080/"
        },
        "outputId": "57ffcceb-f4ac-41ad-f179-97cb2e46d021"
      },
      "outputs": [
        {
          "output_type": "stream",
          "name": "stdout",
          "text": [
            "Accuracy: 94.40%\n",
            "Drive already mounted at /content/drive; to attempt to forcibly remount, call drive.mount(\"/content/drive\", force_remount=True).\n",
            "Saved graph_data to /content/drive/MyDrive/Malware/graph_data.pt\n"
          ]
        }
      ],
      "source": [
        "# Evaluate on all windows using CPU\n",
        "model.eval()\n",
        "correct = 0\n",
        "total = 0\n",
        "\n",
        "with torch.no_grad():\n",
        "    for data in data_list:\n",
        "        data = data.to(\"cpu\")  # Set device to CPU\n",
        "        out = model(data.x, data.edge_index)\n",
        "        pred = out.argmax(dim=1)\n",
        "        correct += (pred == data.y).sum().item()\n",
        "        total += data.num_nodes\n",
        "\n",
        "print(f\"Accuracy: {correct / total * 100:.2f}%\")\n",
        "import torch\n",
        "\n",
        "# Mount Google Drive (if not already mounted)\n",
        "from google.colab import drive\n",
        "drive.mount('/content/drive')\n",
        "\n",
        "# Path to save the PyG data object\n",
        "save_path = '/content/drive/MyDrive/Malware/graph_data.pt'\n",
        "\n",
        "# Save the PyG Data object\n",
        "torch.save(data_list, save_path)\n",
        "\n",
        "print(f\"Saved graph_data to {save_path}\")\n"
      ]
    },
    {
      "cell_type": "markdown",
      "metadata": {
        "id": "Aq7tZrqPLFfJ"
      },
      "source": [
        "Causal Sampling (Temporal Neighbor Selection)"
      ]
    },
    {
      "cell_type": "markdown",
      "metadata": {
        "id": "ayydhP4ULuof"
      },
      "source": [
        "Updated Training Loop with Causal Sampling:"
      ]
    },
    {
      "cell_type": "code",
      "execution_count": null,
      "metadata": {
        "id": "LpG6ikzcLn1r",
        "colab": {
          "base_uri": "https://localhost:8080/",
          "height": 1000
        },
        "outputId": "ab411a42-0ffc-4f0b-c99e-482336780cc0"
      },
      "outputs": [
        {
          "output_type": "stream",
          "name": "stdout",
          "text": [
            "Epoch 1, Causal Loss: 334.9587\n",
            "Epoch 1, Causal Loss: 334.9587, Accuracy: 40.20%\n",
            "Epoch 2, Causal Loss: 309.7313\n",
            "Epoch 2, Causal Loss: 309.7313, Accuracy: 49.80%\n",
            "Epoch 3, Causal Loss: 294.3856\n",
            "Epoch 3, Causal Loss: 294.3856, Accuracy: 54.29%\n",
            "Epoch 4, Causal Loss: 281.9296\n",
            "Epoch 4, Causal Loss: 281.9296, Accuracy: 57.76%\n",
            "Epoch 5, Causal Loss: 271.2290\n",
            "Epoch 5, Causal Loss: 271.2290, Accuracy: 57.35%\n",
            "Epoch 6, Causal Loss: 261.6215\n",
            "Epoch 6, Causal Loss: 261.6215, Accuracy: 58.57%\n",
            "Epoch 7, Causal Loss: 252.7498\n",
            "Epoch 7, Causal Loss: 252.7498, Accuracy: 64.90%\n",
            "Epoch 8, Causal Loss: 244.3989\n",
            "Epoch 8, Causal Loss: 244.3989, Accuracy: 73.06%\n",
            "Epoch 9, Causal Loss: 236.4308\n",
            "Epoch 9, Causal Loss: 236.4308, Accuracy: 79.80%\n",
            "Epoch 10, Causal Loss: 228.7536\n",
            "Epoch 10, Causal Loss: 228.7536, Accuracy: 83.67%\n",
            "Epoch 11, Causal Loss: 221.3054\n",
            "Epoch 11, Causal Loss: 221.3054, Accuracy: 86.53%\n",
            "Epoch 12, Causal Loss: 214.0448\n",
            "Epoch 12, Causal Loss: 214.0448, Accuracy: 87.14%\n",
            "Epoch 13, Causal Loss: 206.9441\n",
            "Epoch 13, Causal Loss: 206.9441, Accuracy: 88.57%\n",
            "Epoch 14, Causal Loss: 199.9854\n",
            "Epoch 14, Causal Loss: 199.9854, Accuracy: 89.59%\n",
            "Epoch 15, Causal Loss: 193.1574\n",
            "Epoch 15, Causal Loss: 193.1574, Accuracy: 91.43%\n",
            "Epoch 16, Causal Loss: 186.4531\n",
            "Epoch 16, Causal Loss: 186.4531, Accuracy: 92.04%\n",
            "Epoch 17, Causal Loss: 179.8686\n",
            "Epoch 17, Causal Loss: 179.8686, Accuracy: 92.86%\n",
            "Epoch 18, Causal Loss: 173.4019\n",
            "Epoch 18, Causal Loss: 173.4019, Accuracy: 93.47%\n",
            "Epoch 19, Causal Loss: 167.0528\n",
            "Epoch 19, Causal Loss: 167.0528, Accuracy: 93.67%\n",
            "Epoch 20, Causal Loss: 160.8218\n",
            "Epoch 20, Causal Loss: 160.8218, Accuracy: 94.08%\n"
          ]
        },
        {
          "output_type": "display_data",
          "data": {
            "text/plain": [
              "<Figure size 1200x500 with 2 Axes>"
            ],
            "image/png": "[encoded data removed]"
          },
          "metadata": {}
        }
      ],
      "source": [
        "from torch_geometric.nn import GraphSAGE\n",
        "import torch\n",
        "import torch.nn.functional as F\n",
        "losses = []\n",
        "accuracies = []\n",
        "\n",
        "# Re-initialize the model for causal training\n",
        "in_channels = data_list[0].num_node_features\n",
        "hidden_channels = 32\n",
        "out_channels = len(set(y))\n",
        "model = GraphSAGE(in_channels, hidden_channels, out_channels).to(\"cpu\")\n",
        "\n",
        "optimizer = torch.optim.Adam(model.parameters(), lr=0.001)\n",
        "loss_fn = torch.nn.CrossEntropyLoss()\n",
        "\n",
        "# Causal training: Only train on current and previous windows\n",
        "model.train()\n",
        "for epoch in range(20):  # Number of epochs\n",
        "    total_loss = 0\n",
        "    for t in range(1, len(data_list)):  # Start from t=1 to allow causal (t-1)\n",
        "        optimizer.zero_grad()\n",
        "\n",
        "        # Simulate causal memory: train on window t-1\n",
        "        past_data = data_list[t - 1].to(\"cpu\")\n",
        "        current_data = data_list[t].to(\"cpu\")\n",
        "\n",
        "        # Forward on past data\n",
        "        out_past = model(past_data.x, past_data.edge_index)\n",
        "        loss_past = loss_fn(out_past, past_data.y)\n",
        "\n",
        "        # Forward on current data\n",
        "        out_current = model(current_data.x, current_data.edge_index)\n",
        "        loss_current = loss_fn(out_current, current_data.y)\n",
        "\n",
        "        # Combined loss\n",
        "        loss = loss_past + loss_current\n",
        "        loss.backward()\n",
        "        optimizer.step()\n",
        "        total_loss += loss.item()\n",
        "\n",
        "    print(f\"Epoch {epoch+1}, Causal Loss: {total_loss:.4f}\")\n",
        "  # Calculate accuracy after epoch\n",
        "    model.eval()\n",
        "    correct = 0\n",
        "    total = 0\n",
        "    with torch.no_grad():\n",
        "        for t in range(1, len(data_list)):\n",
        "            data = data_list[t].to(\"cpu\")\n",
        "            out = model(data.x, data.edge_index)\n",
        "            preds = out.argmax(dim=1)\n",
        "            correct += (preds == data.y).sum().item()\n",
        "            total += data.y.size(0)\n",
        "\n",
        "    accuracy = correct / total if total > 0 else 0\n",
        "    losses.append(total_loss)\n",
        "    accuracies.append(accuracy * 100)\n",
        "\n",
        "    print(f\"Epoch {epoch+1}, Causal Loss: {total_loss:.4f}, Accuracy: {accuracy*100:.2f}%\")\n",
        "    model.train()  # switch back to training mode\n",
        "\n",
        "# Plotting\n",
        "epochs = list(range(1, 21))\n",
        "plt.figure(figsize=(12, 5))\n",
        "\n",
        "# Loss plot\n",
        "plt.subplot(1, 2, 1)\n",
        "plt.plot(epochs, losses, marker='o', color='blue')\n",
        "plt.title('Causal Sampling - Loss Over Epochs')\n",
        "plt.xlabel('Epoch')\n",
        "plt.ylabel('Loss')\n",
        "\n",
        "# Accuracy plot\n",
        "plt.subplot(1, 2, 2)\n",
        "plt.plot(epochs, accuracies, marker='s', color='green')\n",
        "plt.title('Causal Sampling - Accuracy Over Epochs')\n",
        "plt.xlabel('Epoch')\n",
        "plt.ylabel('Accuracy (%)')\n",
        "\n",
        "plt.tight_layout()\n",
        "plt.show()"
      ]
    },
    {
      "cell_type": "markdown",
      "metadata": {
        "id": "oNPp5bwGL6D4"
      },
      "source": [
        "Evaluation After Causal Training:"
      ]
    },
    {
      "cell_type": "code",
      "execution_count": null,
      "metadata": {
        "id": "UPb-qFJLL6qz",
        "colab": {
          "base_uri": "https://localhost:8080/"
        },
        "outputId": "fe87cdd1-25c4-40b9-e6da-f2949154eab4"
      },
      "outputs": [
        {
          "output_type": "stream",
          "name": "stdout",
          "text": [
            "Causal Evaluation Accuracy (on last window): 80.00%\n"
          ]
        }
      ],
      "source": [
        "# Evaluate only on the last window (simulate unseen future)\n",
        "model.eval()\n",
        "correct = 0\n",
        "total = 0\n",
        "\n",
        "with torch.no_grad():\n",
        "    eval_data = data_list[-1].to(\"cpu\")  # Last window\n",
        "    out = model(eval_data.x, eval_data.edge_index)\n",
        "    pred = out.argmax(dim=1)\n",
        "    correct += (pred == eval_data.y).sum().item()\n",
        "    total += eval_data.num_nodes\n",
        "\n",
        "print(f\"Causal Evaluation Accuracy (on last window): {correct / total * 100:.2f}%\")\n"
      ]
    },
    {
      "cell_type": "code",
      "source": [
        "import copy\n",
        "import random\n",
        "import torch\n",
        "num_output_classes = 2\n",
        "out_channels = num_output_classes\n",
        "\n",
        "def inject_noise(data_list, label_noise_ratio=0.1, feature_noise_ratio=0.1, num_output_classes=2): # Add this parameter\n",
        "    noisy_data_list = []\n",
        "\n",
        "    for data in data_list:\n",
        "        data_noisy = copy.deepcopy(data)\n",
        "\n",
        "        # Ensure label has multiple classes before injecting noise\n",
        "        # Now, ensure labels are within the range [0, num_output_classes - 1]\n",
        "        unique_labels = list(set(data_noisy.y.tolist()))\n",
        "        if len(unique_labels) <= 1:\n",
        "            # Randomly assign labels from 0 to num_output_classes - 1\n",
        "            data_noisy.y = torch.randint(0, num_output_classes, data_noisy.y.shape, dtype=torch.long)\n",
        "            unique_labels = list(set(data_noisy.y.tolist())) # Recalculate unique_labels\n",
        "\n",
        "        num_nodes = data_noisy.y.shape[0]\n",
        "\n",
        "        # Inject label noise\n",
        "        num_label_noise = int(label_noise_ratio * num_nodes)\n",
        "        noisy_label_indices = random.sample(range(num_nodes), num_label_noise)\n",
        "\n",
        "        for idx in noisy_label_indices:\n",
        "            original_label = data_noisy.y[idx].item()\n",
        "            # Ensure possible_labels are within the defined output classes\n",
        "            possible_labels = list(range(num_output_classes)) # All possible classes\n",
        "            if len(possible_labels) <= 1: # If only one class is possible, no noise can be injected\n",
        "                continue\n",
        "\n",
        "            # Filter out the original label, but handle cases where original_label might not be in possible_labels (though it should be now)\n",
        "            if original_label in possible_labels:\n",
        "                possible_labels.remove(original_label)\n",
        "\n",
        "            # If after removing original, no other options are left (e.g., if num_output_classes was 1), skip\n",
        "            if not possible_labels:\n",
        "                continue\n",
        "\n",
        "            new_label = random.choice(possible_labels)\n",
        "            data_noisy.y[idx] = new_label\n",
        "\n",
        "        # Inject feature noise (this part is fine)\n",
        "        num_feature_noise = int(feature_noise_ratio * num_nodes)\n",
        "        noisy_feature_indices = random.sample(range(num_nodes), num_feature_noise)\n",
        "\n",
        "        for idx in noisy_feature_indices:\n",
        "            noise = torch.randn_like(data_noisy.x[idx]) * 0.1\n",
        "            data_noisy.x[idx] += noise\n",
        "\n",
        "        noisy_data_list.append(data_noisy)\n",
        "\n",
        "    return noisy_data_list\n",
        "\n",
        "\n",
        "# Apply noise\n",
        "noisy_data_list = inject_noise(data_list, label_noise_ratio=0.1, feature_noise_ratio=0.1)\n",
        "\n",
        "# Add time_window attribute to each data object (make sure it's a CPU tensor)\n",
        "# Assign dummy time_window values to each graph\n",
        "for i, data in enumerate(noisy_data_list):\n",
        "    num_nodes = data.num_nodes\n",
        "    # Example: assign random time values or based on your use case\n",
        "    data.time_window = torch.randint(0, 5, (num_nodes,), dtype=torch.long)\n",
        "\n",
        "\n",
        "import torch.nn.functional as F\n",
        "from torch_geometric.nn import SAGEConv\n",
        "\n",
        "class CausalGraphSAGE(torch.nn.Module):\n",
        "    def __init__(self, in_channels, hidden_channels, out_channels):\n",
        "        super(CausalGraphSAGE, self).__init__()\n",
        "        self.conv1 = SAGEConv(in_channels, hidden_channels)\n",
        "        self.conv2 = SAGEConv(hidden_channels, out_channels)\n",
        "\n",
        "    def forward(self, x, edge_index, time_window):\n",
        "        row, col = edge_index\n",
        "\n",
        "        # Filter edges: allow edges from past or current windows only (causal)\n",
        "        mask = time_window[row] <= time_window[col]\n",
        "        if mask.sum() == 0:\n",
        "            # If all edges filtered out, skip filtering to avoid empty edge_index\n",
        "            filtered_edge_index = edge_index\n",
        "        else:\n",
        "            filtered_edge_index = edge_index[:, mask]\n",
        "\n",
        "        x = F.relu(self.conv1(x, filtered_edge_index))\n",
        "        x = self.conv2(x, filtered_edge_index)\n",
        "        return x\n",
        "\n",
        "\n",
        "# Model setup\n",
        "model = CausalGraphSAGE(in_channels, hidden_channels, out_channels).to(\"cpu\")\n",
        "optimizer = torch.optim.Adam(model.parameters(), lr=0.0001, weight_decay=1e-5)\n",
        "loss_fn = torch.nn.CrossEntropyLoss()\n",
        "\n",
        "# Training loop\n",
        "model.train()\n",
        "for epoch in range(20):\n",
        "    total_loss = 0\n",
        "    for t in range(1, len(noisy_data_list)):\n",
        "        optimizer.zero_grad()\n",
        "        past_data = noisy_data_list[t - 1].to(\"cpu\")\n",
        "        current_data = noisy_data_list[t].to(\"cpu\")\n",
        "\n",
        "        out_past = model(past_data.x, past_data.edge_index, past_data.time_window)\n",
        "        loss_past = loss_fn(out_past, past_data.y)\n",
        "\n",
        "        out_current = model(current_data.x, current_data.edge_index, current_data.time_window)\n",
        "        loss_current = loss_fn(out_current, current_data.y)\n",
        "\n",
        "        loss = loss_past + loss_current\n",
        "        loss.backward()\n",
        "        optimizer.step()\n",
        "\n",
        "        total_loss += loss.item()\n",
        "\n",
        "    print(f\"[Noise] Epoch {epoch+1}, Causal Loss: {total_loss:.4f}\")\n",
        "\n",
        "print(\"Example past labels:\", past_data.y)\n",
        "print(\"Example current labels:\", current_data.y)\n"
      ],
      "metadata": {
        "colab": {
          "base_uri": "https://localhost:8080/"
        },
        "id": "NyZpEBQQsJxO",
        "outputId": "c835a85f-ba63-4988-c9f6-ee92b35b35b0"
      },
      "execution_count": null,
      "outputs": [
        {
          "output_type": "stream",
          "name": "stdout",
          "text": [
            "[Noise] Epoch 1, Causal Loss: 70.7711\n",
            "[Noise] Epoch 2, Causal Loss: 68.9621\n",
            "[Noise] Epoch 3, Causal Loss: 68.1443\n",
            "[Noise] Epoch 4, Causal Loss: 67.6062\n",
            "[Noise] Epoch 5, Causal Loss: 67.2066\n",
            "[Noise] Epoch 6, Causal Loss: 66.8582\n",
            "[Noise] Epoch 7, Causal Loss: 66.5371\n",
            "[Noise] Epoch 8, Causal Loss: 66.2524\n",
            "[Noise] Epoch 9, Causal Loss: 66.0225\n",
            "[Noise] Epoch 10, Causal Loss: 65.8063\n",
            "[Noise] Epoch 11, Causal Loss: 65.6065\n",
            "[Noise] Epoch 12, Causal Loss: 65.4279\n",
            "[Noise] Epoch 13, Causal Loss: 65.2576\n",
            "[Noise] Epoch 14, Causal Loss: 65.1049\n",
            "[Noise] Epoch 15, Causal Loss: 64.9555\n",
            "[Noise] Epoch 16, Causal Loss: 64.8158\n",
            "[Noise] Epoch 17, Causal Loss: 64.6795\n",
            "[Noise] Epoch 18, Causal Loss: 64.5557\n",
            "[Noise] Epoch 19, Causal Loss: 64.4242\n",
            "[Noise] Epoch 20, Causal Loss: 64.3064\n",
            "Example past labels: tensor([0, 0, 0, 0, 1, 0, 1, 1, 1, 0])\n",
            "Example current labels: tensor([0, 0, 1, 1, 1, 1, 1, 0, 0, 0])\n"
          ]
        }
      ]
    },
    {
      "cell_type": "markdown",
      "metadata": {
        "id": "SVJbsO5NMY4S"
      },
      "source": [
        "Inject 10–20% Noise for Robustness Testing"
      ]
    },
    {
      "cell_type": "markdown",
      "metadata": {
        "id": "Y8vxrtTIMcN4"
      },
      "source": [
        "We’ll inject:\n",
        "\n",
        "Label noise: randomly flip labels for 10–20% of nodes.\n",
        "\n",
        "Feature noise: add small Gaussian noise to features for 10–20% of nodes."
      ]
    },
    {
      "cell_type": "code",
      "execution_count": null,
      "metadata": {
        "id": "B0juN7K3MdOh",
        "colab": {
          "base_uri": "https://localhost:8080/"
        },
        "outputId": "36ebcf04-f3a8-4d43-a44a-3e9255e64ec8"
      },
      "outputs": [
        {
          "output_type": "stream",
          "name": "stdout",
          "text": [
            "Warning: Adjusting labels in data sample 0 to fit 2 classes.\n",
            "Warning: Adjusting labels in data sample 1 to fit 2 classes.\n",
            "Warning: Adjusting labels in data sample 2 to fit 2 classes.\n",
            "Warning: Adjusting labels in data sample 3 to fit 2 classes.\n",
            "Warning: Adjusting labels in data sample 4 to fit 2 classes.\n",
            "Warning: Adjusting labels in data sample 5 to fit 2 classes.\n",
            "Warning: Adjusting labels in data sample 6 to fit 2 classes.\n",
            "Warning: Adjusting labels in data sample 7 to fit 2 classes.\n",
            "Warning: Adjusting labels in data sample 8 to fit 2 classes.\n",
            "Warning: Adjusting labels in data sample 9 to fit 2 classes.\n",
            "Warning: Adjusting labels in data sample 10 to fit 2 classes.\n",
            "Warning: Adjusting labels in data sample 11 to fit 2 classes.\n",
            "Warning: Adjusting labels in data sample 12 to fit 2 classes.\n",
            "Warning: Adjusting labels in data sample 13 to fit 2 classes.\n",
            "Warning: Adjusting labels in data sample 14 to fit 2 classes.\n",
            "Warning: Adjusting labels in data sample 15 to fit 2 classes.\n",
            "Warning: Adjusting labels in data sample 16 to fit 2 classes.\n",
            "Warning: Adjusting labels in data sample 17 to fit 2 classes.\n",
            "Warning: Adjusting labels in data sample 18 to fit 2 classes.\n",
            "Warning: Adjusting labels in data sample 19 to fit 2 classes.\n",
            "Warning: Adjusting labels in data sample 20 to fit 2 classes.\n",
            "Warning: Adjusting labels in data sample 21 to fit 2 classes.\n",
            "Warning: Adjusting labels in data sample 22 to fit 2 classes.\n",
            "Warning: Adjusting labels in data sample 23 to fit 2 classes.\n",
            "Warning: Adjusting labels in data sample 24 to fit 2 classes.\n",
            "Warning: Adjusting labels in data sample 25 to fit 2 classes.\n",
            "Warning: Adjusting labels in data sample 26 to fit 2 classes.\n",
            "Warning: Adjusting labels in data sample 27 to fit 2 classes.\n",
            "Warning: Adjusting labels in data sample 28 to fit 2 classes.\n",
            "Warning: Adjusting labels in data sample 29 to fit 2 classes.\n",
            "Warning: Adjusting labels in data sample 30 to fit 2 classes.\n",
            "Warning: Adjusting labels in data sample 31 to fit 2 classes.\n",
            "Warning: Adjusting labels in data sample 32 to fit 2 classes.\n",
            "Warning: Adjusting labels in data sample 33 to fit 2 classes.\n",
            "Warning: Adjusting labels in data sample 34 to fit 2 classes.\n",
            "Warning: Adjusting labels in data sample 35 to fit 2 classes.\n",
            "Warning: Adjusting labels in data sample 36 to fit 2 classes.\n",
            "Warning: Adjusting labels in data sample 37 to fit 2 classes.\n",
            "Warning: Adjusting labels in data sample 38 to fit 2 classes.\n",
            "Warning: Adjusting labels in data sample 39 to fit 2 classes.\n",
            "Warning: Adjusting labels in data sample 40 to fit 2 classes.\n",
            "Warning: Adjusting labels in data sample 41 to fit 2 classes.\n",
            "Warning: Adjusting labels in data sample 42 to fit 2 classes.\n",
            "Warning: Adjusting labels in data sample 43 to fit 2 classes.\n",
            "Warning: Adjusting labels in data sample 44 to fit 2 classes.\n",
            "Warning: Adjusting labels in data sample 45 to fit 2 classes.\n",
            "Warning: Adjusting labels in data sample 46 to fit 2 classes.\n",
            "Warning: Adjusting labels in data sample 47 to fit 2 classes.\n",
            "Warning: Adjusting labels in data sample 48 to fit 2 classes.\n",
            "Warning: Adjusting labels in data sample 49 to fit 2 classes.\n",
            "[Noise] Epoch 1, Causal Loss: 79.6671\n",
            "[Noise] Epoch 2, Causal Loss: 71.1445\n",
            "[Noise] Epoch 3, Causal Loss: 65.9170\n",
            "[Noise] Epoch 4, Causal Loss: 64.1407\n",
            "[Noise] Epoch 5, Causal Loss: 62.8427\n",
            "[Noise] Epoch 6, Causal Loss: 60.4615\n",
            "[Noise] Epoch 7, Causal Loss: 61.4896\n",
            "[Noise] Epoch 8, Causal Loss: 57.5988\n",
            "[Noise] Epoch 9, Causal Loss: 57.2948\n",
            "[Noise] Epoch 10, Causal Loss: 56.3715\n",
            "[Noise] Epoch 11, Causal Loss: 56.6747\n",
            "[Noise] Epoch 12, Causal Loss: 51.6357\n",
            "[Noise] Epoch 13, Causal Loss: 49.8622\n",
            "[Noise] Epoch 14, Causal Loss: 46.2705\n",
            "[Noise] Epoch 15, Causal Loss: 48.2070\n",
            "[Noise] Epoch 16, Causal Loss: 46.4225\n",
            "[Noise] Epoch 17, Causal Loss: 43.7417\n",
            "[Noise] Epoch 18, Causal Loss: 42.9900\n",
            "[Noise] Epoch 19, Causal Loss: 40.2679\n",
            "[Noise] Epoch 20, Causal Loss: 37.1075\n",
            "Example past labels: tensor([1, 0, 1, 0, 1, 1, 0, 1, 1, 0])\n",
            "Example current labels: tensor([1, 0, 1, 0, 0, 1, 1, 0, 0, 1])\n"
          ]
        }
      ],
      "source": [
        "import copy\n",
        "import random\n",
        "import torch\n",
        "import torch.nn.functional as F\n",
        "from torch_geometric.nn import SAGEConv\n",
        "\n",
        "# --- Define the number of output classes for your problem ---\n",
        "# This is crucial and must match your target labels.\n",
        "# For binary classification (e.g., benign/malicious), it's 2.\n",
        "# If you have 3 types of malware + benign, it would be 4.\n",
        "num_output_classes = 2 # Adjust this based on your actual classification task\n",
        "\n",
        "def inject_noise(data_list, label_noise_ratio=0.1, feature_noise_ratio=0.1, num_output_classes=2):\n",
        "    noisy_data_list = []\n",
        "\n",
        "    for data in data_list:\n",
        "        data_noisy = copy.deepcopy(data)\n",
        "\n",
        "        num_nodes = data_noisy.y.shape[0]\n",
        "\n",
        "        # Ensure original labels are within the expected range, or re-assign if necessary\n",
        "        # The .to(torch.long) is important for CrossEntropyLoss\n",
        "        # If your initial data.y values are not 0 to num_output_classes-1, you might need a mapping here\n",
        "        # For demonstration, we'll ensure they are if they are not.\n",
        "        if len(set(data_noisy.y.tolist())) <= 1 or max(data_noisy.y.tolist()) >= num_output_classes:\n",
        "            print(f\"Warning: Adjusting labels in data sample {data_list.index(data)} to fit {num_output_classes} classes.\")\n",
        "            data_noisy.y = torch.randint(0, num_output_classes, data_noisy.y.shape, dtype=torch.long)\n",
        "\n",
        "        # Inject label noise\n",
        "        num_label_noise = int(label_noise_ratio * num_nodes)\n",
        "        noisy_label_indices = random.sample(range(num_nodes), num_label_noise)\n",
        "\n",
        "        for idx in noisy_label_indices:\n",
        "            original_label = data_noisy.y[idx].item()\n",
        "\n",
        "            # Get all possible target labels (0 to num_output_classes - 1)\n",
        "            possible_labels_for_noise = list(range(num_output_classes))\n",
        "\n",
        "            # Remove the original label to ensure we change it\n",
        "            if original_label in possible_labels_for_noise:\n",
        "                possible_labels_for_noise.remove(original_label)\n",
        "\n",
        "            # If after removal, there are no other options, skip noise injection for this label\n",
        "            if not possible_labels_for_noise:\n",
        "                continue\n",
        "\n",
        "            new_label = random.choice(possible_labels_for_noise)\n",
        "            data_noisy.y[idx] = new_label\n",
        "\n",
        "        # Inject feature noise\n",
        "        num_feature_noise = int(feature_noise_ratio * num_nodes)\n",
        "        noisy_feature_indices = random.sample(range(num_nodes), num_feature_noise)\n",
        "\n",
        "        for idx in noisy_feature_indices:\n",
        "            # Ensure noise type matches feature type (e.g., float)\n",
        "            noise = torch.randn_like(data_noisy.x[idx]) * 0.6\n",
        "            data_noisy.x[idx] += noise\n",
        "\n",
        "        noisy_data_list.append(data_noisy)\n",
        "\n",
        "    return noisy_data_list\n",
        "\n",
        "# Add time_window attribute to each data object (make sure it's a CPU tensor)\n",
        "# Assign dummy time_window values to each graph\n",
        "# THIS PART NEEDS TO BE DONE AFTER YOUR ACTUAL data_list IS LOADED AND CREATED.\n",
        "# For demonstration purposes, let's assume data_list is already defined with Data objects\n",
        "# Example:\n",
        "# from torch_geometric.data import Data\n",
        "# data_list = [\n",
        "#     Data(x=torch.randn(10, 16), edge_index=torch.randint(0, 10, (2, 20)), y=torch.randint(0, 2, (10,))),\n",
        "#     Data(x=torch.randn(12, 16), edge_index=torch.randint(0, 12, (2, 25)), y=torch.randint(0, 2, (12,))),\n",
        "# ]\n",
        "# Make sure data_list exists and contains torch_geometric.data.Data objects with x, edge_index, y\n",
        "\n",
        "# Infer in_channels from your actual data_list\n",
        "# If data_list is empty, this will cause an error. Ensure it's populated.\n",
        "if not data_list:\n",
        "    raise ValueError(\"data_list is empty. Please ensure it's populated with PyG Data objects.\")\n",
        "in_channels = data_list[0].x.shape[1] # Number of features per node\n",
        "hidden_channels = 32\n",
        "out_channels = num_output_classes # This must match your target labels\n",
        "\n",
        "# Apply noise\n",
        "# Pass num_output_classes to the inject_noise function\n",
        "noisy_data_list = inject_noise(data_list, label_noise_ratio=0.3, feature_noise_ratio=0.3, num_output_classes=num_output_classes)\n",
        "\n",
        "# Add time_window attribute to each data object (make sure it's a CPU tensor)\n",
        "# This loop should ideally come AFTER `inject_noise` if `inject_noise` creates new Data objects.\n",
        "# Or ensure that `data_list` itself already has `time_window`\n",
        "for i, data in enumerate(noisy_data_list):\n",
        "    num_nodes = data.num_nodes\n",
        "    data.time_window = torch.randint(0, 5, (num_nodes,), dtype=torch.long) # Example: assign random time values\n",
        "\n",
        "\n",
        "class CausalGraphSAGE(torch.nn.Module):\n",
        "    def __init__(self, in_channels, hidden_channels, out_channels):\n",
        "        super(CausalGraphSAGE, self).__init__()\n",
        "        self.conv1 = SAGEConv(in_channels, hidden_channels)\n",
        "        self.conv2 = SAGEConv(hidden_channels, out_channels)\n",
        "\n",
        "    def forward(self, x, edge_index, time_window):\n",
        "        row, col = edge_index\n",
        "\n",
        "        # Filter edges: allow edges from past or current windows only (causal)\n",
        "        # Handle cases where time_window might not contain all node indices\n",
        "        if len(time_window) > 0: # Ensure time_window is not empty before indexing\n",
        "            mask = time_window[row] <= time_window[col]\n",
        "            if mask.sum() == 0 and edge_index.numel() > 0: # If all edges filtered, but edges existed, don't filter\n",
        "                 filtered_edge_index = edge_index\n",
        "            else:\n",
        "                 filtered_edge_index = edge_index[:, mask]\n",
        "        else: # If no time window information, use all edges (non-causal)\n",
        "            filtered_edge_index = edge_index\n",
        "\n",
        "        # Handle empty filtered_edge_index if no edges remain\n",
        "        if filtered_edge_index.numel() == 0 and x.numel() > 0:\n",
        "            # If no edges, but nodes exist, SAGEConv might complain.\n",
        "            # A common workaround is to return a default output or handle this in SAGEConv.\n",
        "            # For now, let's assume SAGEConv can handle empty edge_index if x is valid.\n",
        "            # If it still errors, you might need to add a check for x.numel() > 0\n",
        "            # and potentially return a zero tensor if both edge_index and x are problematic.\n",
        "            pass\n",
        "\n",
        "        x = F.relu(self.conv1(x, filtered_edge_index))\n",
        "        x = self.conv2(x, filtered_edge_index)\n",
        "        return x\n",
        "\n",
        "\n",
        "# Model setup\n",
        "model = CausalGraphSAGE(in_channels, hidden_channels, out_channels).to(\"cpu\")\n",
        "optimizer = torch.optim.Adam(model.parameters(), lr=0.01, weight_decay=1e-10)\n",
        "loss_fn = torch.nn.CrossEntropyLoss()\n",
        "\n",
        "# Training loop\n",
        "model.train()\n",
        "for epoch in range(20):\n",
        "    total_loss = 0\n",
        "    # Ensure noisy_data_list is not empty and has at least 2 elements for t-1, t\n",
        "    if len(noisy_data_list) < 2:\n",
        "        print(\"Not enough data samples in noisy_data_list for causal training.\")\n",
        "        break # Exit loop if not enough data\n",
        "\n",
        "    for t in range(1, len(noisy_data_list)):\n",
        "        optimizer.zero_grad()\n",
        "        past_data = noisy_data_list[t - 1].to(\"cpu\")\n",
        "        current_data = noisy_data_list[t].to(\"cpu\")\n",
        "\n",
        "        # Ensure labels are torch.long for CrossEntropyLoss\n",
        "        # This is critical for CrossEntropyLoss!\n",
        "        if past_data.y.dtype != torch.long:\n",
        "            past_data.y = past_data.y.long()\n",
        "        if current_data.y.dtype != torch.long:\n",
        "            current_data.y = current_data.y.long()\n",
        "\n",
        "        # Check if any data.y values are out of bounds before passing to loss_fn\n",
        "        if past_data.y.max() >= out_channels or past_data.y.min() < 0:\n",
        "            print(f\"Error: Past data labels out of bounds for epoch {epoch}, t {t}. Max label: {past_data.y.max()}, Min label: {past_data.y.min()}, Expected range: [0, {out_channels-1}]\")\n",
        "            continue # Skip this iteration or handle appropriately\n",
        "\n",
        "        if current_data.y.max() >= out_channels or current_data.y.min() < 0:\n",
        "            print(f\"Error: Current data labels out of bounds for epoch {epoch}, t {t}. Max label: {current_data.y.max()}, Min label: {current_data.y.min()}, Expected range: [0, {out_channels-1}]\")\n",
        "            continue # Skip this iteration or handle appropriately\n",
        "\n",
        "\n",
        "        out_past = model(past_data.x, past_data.edge_index, past_data.time_window)\n",
        "        loss_past = loss_fn(out_past, past_data.y)\n",
        "\n",
        "        out_current = model(current_data.x, current_data.edge_index, current_data.time_window)\n",
        "        loss_current = loss_fn(out_current, current_data.y)\n",
        "\n",
        "        loss = loss_past + loss_current\n",
        "        loss.backward()\n",
        "        optimizer.step()\n",
        "\n",
        "        total_loss += loss.item()\n",
        "\n",
        "    print(f\"[Noise] Epoch {epoch+1}, Causal Loss: {total_loss:.4f}\")\n",
        "\n",
        "print(\"Example past labels:\", past_data.y)\n",
        "print(\"Example current labels:\", current_data.y)"
      ]
    },
    {
      "cell_type": "markdown",
      "metadata": {
        "id": "d4sqBX7LMjfr"
      },
      "source": [
        "Modify GraphSAGE to Handle Causal Sampling:"
      ]
    },
    {
      "cell_type": "code",
      "execution_count": null,
      "metadata": {
        "id": "gc2Px8ZFMiW5",
        "colab": {
          "base_uri": "https://localhost:8080/"
        },
        "outputId": "c534c49e-0162-4da0-a7da-a204656b5107"
      },
      "outputs": [
        {
          "output_type": "stream",
          "name": "stdout",
          "text": [
            "Epoch 1, Loss: 36.7669\n",
            "Epoch 2, Loss: 34.0553\n",
            "Epoch 3, Loss: 33.1421\n",
            "Epoch 4, Loss: 32.3627\n",
            "Epoch 5, Loss: 31.6175\n",
            "Epoch 6, Loss: 30.7653\n",
            "Epoch 7, Loss: 29.9724\n",
            "Epoch 8, Loss: 29.1784\n",
            "Epoch 9, Loss: 28.3931\n",
            "Epoch 10, Loss: 27.4089\n",
            "Epoch 11, Loss: 26.5518\n",
            "Epoch 12, Loss: 25.7461\n",
            "Epoch 13, Loss: 24.6957\n",
            "Epoch 14, Loss: 23.6549\n",
            "Epoch 15, Loss: 22.8335\n",
            "Epoch 16, Loss: 22.0104\n",
            "Epoch 17, Loss: 21.2342\n",
            "Epoch 18, Loss: 20.3192\n",
            "Epoch 19, Loss: 19.3941\n",
            "Epoch 20, Loss: 18.5658\n"
          ]
        }
      ],
      "source": [
        "import torch\n",
        "import torch.nn.functional as F\n",
        "from torch_geometric.nn import SAGEConv, BatchNorm\n",
        "from sklearn.metrics import accuracy_score\n",
        "\n",
        "class CausalGraphSAGE(torch.nn.Module):\n",
        "    def __init__(self, in_channels, hidden_channels, out_channels, dropout=0):\n",
        "        super(CausalGraphSAGE, self).__init__()\n",
        "        self.conv1 = SAGEConv(in_channels, hidden_channels)\n",
        "        self.bn1 = BatchNorm(hidden_channels)\n",
        "        self.dropout = torch.nn.Dropout(dropout)\n",
        "        self.conv2 = SAGEConv(hidden_channels, out_channels)\n",
        "\n",
        "    def forward(self, x, edge_index, time_window):\n",
        "        row, col = edge_index\n",
        "\n",
        "        # Strict causality: only allow edges from earlier time steps\n",
        "        mask = time_window[row] < time_window[col]\n",
        "        edge_index = edge_index[:, mask]\n",
        "\n",
        "        x = self.conv1(x, edge_index)\n",
        "        x = self.bn1(x)\n",
        "        x = F.relu(x)\n",
        "        x = self.dropout(x)\n",
        "        x = self.conv2(x, edge_index)\n",
        "        # No activation here — apply CrossEntropyLoss outside\n",
        "        return x\n",
        "for t, data in enumerate(noisy_data_list):\n",
        "    if not hasattr(data, 'time_window'):\n",
        "        data.time_window = torch.full((data.num_nodes,), t, dtype=torch.long)\n",
        "\n",
        "# Training loop example:\n",
        "model = CausalGraphSAGE(in_channels=55, hidden_channels=32, out_channels=2)\n",
        "optimizer = torch.optim.Adam(model.parameters(), lr=0.001,weight_decay=1e-4)\n",
        "loss_fn = torch.nn.CrossEntropyLoss()\n",
        "\n",
        "model.train()\n",
        "for epoch in range(20):\n",
        "    total_loss = 0\n",
        "    for t, data in enumerate(noisy_data_list):\n",
        "        optimizer.zero_grad()\n",
        "\n",
        "        # Forward pass with causal filtering inside the model\n",
        "        out = model(data.x, data.edge_index, data.time_window)\n",
        "\n",
        "        loss = loss_fn(out, data.y)\n",
        "        loss.backward()\n",
        "        optimizer.step()\n",
        "        total_loss += loss.item()\n",
        "    print(f\"Epoch {epoch+1}, Loss: {total_loss:.4f}\")"
      ]
    },
    {
      "cell_type": "code",
      "source": [
        "#DONT RUN THIS\n",
        "import torch\n",
        "import torch.nn.functional as F\n",
        "from torch_geometric.nn import SAGEConv, BatchNorm\n",
        "from sklearn.metrics import accuracy_score\n",
        "import matplotlib.pyplot as plt\n",
        "\n",
        "class CausalGraphSAGE(torch.nn.Module):\n",
        "    def __init__(self, in_channels, hidden_channels, out_channels, dropout=0):\n",
        "        super(CausalGraphSAGE, self).__init__()\n",
        "        self.conv1 = SAGEConv(in_channels, hidden_channels)\n",
        "        self.bn1 = BatchNorm(hidden_channels)\n",
        "        self.dropout = torch.nn.Dropout(dropout)\n",
        "        self.conv2 = SAGEConv(hidden_channels, out_channels)\n",
        "\n",
        "    def forward(self, x, edge_index, time_window):\n",
        "        row, col = edge_index\n",
        "\n",
        "        # Strict causality: only allow edges from earlier time steps\n",
        "        mask = time_window[row] < time_window[col]\n",
        "        edge_index = edge_index[:, mask]\n",
        "\n",
        "        x = self.conv1(x, edge_index)\n",
        "        x = self.bn1(x)\n",
        "        x = F.relu(x)\n",
        "        x = self.dropout(x)\n",
        "        x = self.conv2(x, edge_index)\n",
        "        # No activation here — apply CrossEntropyLoss outside\n",
        "        return x\n",
        "\n",
        "for t, data in enumerate(noisy_data_list):\n",
        "    if not hasattr(data, 'time_window'):\n",
        "        data.time_window = torch.full((data.num_nodes,), t, dtype=torch.long)\n",
        "\n",
        "# Training loop example:\n",
        "model = CausalGraphSAGE(in_channels=55, hidden_channels=32, out_channels=2)\n",
        "optimizer = torch.optim.Adam(model.parameters(), lr=0.001, weight_decay=1e-4)\n",
        "loss_fn = torch.nn.CrossEntropyLoss()\n",
        "\n",
        "# Store loss values during training\n",
        "loss_history = []\n",
        "\n",
        "model.train()\n",
        "for epoch in range(20):\n",
        "    total_loss = 0\n",
        "    for t, data in enumerate(noisy_data_list):\n",
        "        optimizer.zero_grad()\n",
        "\n",
        "        # Forward pass with causal filtering inside the model\n",
        "        out = model(data.x, data.edge_index, data.time_window)\n",
        "\n",
        "        loss = loss_fn(out, data.y)\n",
        "        loss.backward()\n",
        "        optimizer.step()\n",
        "        total_loss += loss.item()\n",
        "    epoch_loss = total_loss / len(noisy_data_list)\n",
        "    loss_history.append(epoch_loss)\n",
        "    print(f\"Epoch {epoch+1}, Loss: {epoch_loss:.4f}\")\n",
        "\n",
        "# Plotting the loss curve\n",
        "plt.plot(loss_history)\n",
        "plt.xlabel(\"Epoch\")\n",
        "plt.ylabel(\"Loss\")\n",
        "plt.title(\"Training Loss Curve\")\n",
        "plt.show()\n"
      ],
      "metadata": {
        "colab": {
          "base_uri": "https://localhost:8080/",
          "height": 819
        },
        "id": "OR3EmO27D2uF",
        "outputId": "e86dd183-a36c-475c-8d61-77b2297421d5"
      },
      "execution_count": null,
      "outputs": [
        {
          "output_type": "stream",
          "name": "stdout",
          "text": [
            "Epoch 1, Loss: 0.7170\n",
            "Epoch 2, Loss: 0.6697\n",
            "Epoch 3, Loss: 0.6505\n",
            "Epoch 4, Loss: 0.6353\n",
            "Epoch 5, Loss: 0.6215\n",
            "Epoch 6, Loss: 0.6049\n",
            "Epoch 7, Loss: 0.5871\n",
            "Epoch 8, Loss: 0.5686\n",
            "Epoch 9, Loss: 0.5491\n",
            "Epoch 10, Loss: 0.5302\n",
            "Epoch 11, Loss: 0.5083\n",
            "Epoch 12, Loss: 0.4929\n",
            "Epoch 13, Loss: 0.4669\n",
            "Epoch 14, Loss: 0.4508\n",
            "Epoch 15, Loss: 0.4295\n",
            "Epoch 16, Loss: 0.4133\n",
            "Epoch 17, Loss: 0.3917\n",
            "Epoch 18, Loss: 0.3759\n",
            "Epoch 19, Loss: 0.3539\n",
            "Epoch 20, Loss: 0.3391\n"
          ]
        },
        {
          "output_type": "display_data",
          "data": {
            "text/plain": [
              "<Figure size 640x480 with 1 Axes>"
            ],
            "image/png": "[encoded data removed]"
          },
          "metadata": {}
        }
      ]
    },
    {
      "cell_type": "code",
      "source": [
        "model.train()\n",
        "for epoch in range(20):\n",
        "    total_loss = 0\n",
        "    for t, data in enumerate(noisy_data_list):\n",
        "        optimizer.zero_grad()\n",
        "        out = model(data.x, data.edge_index, data.time_window)\n",
        "        loss = loss_fn(out, data.y)\n",
        "        loss.backward()\n",
        "        optimizer.step()\n",
        "        total_loss += loss.item()\n",
        "from sklearn.metrics import accuracy_score, precision_score, recall_score, f1_score\n",
        "\n",
        "model.eval()  # set model to evaluation mode\n",
        "\n",
        "all_preds = []\n",
        "all_labels = []\n",
        "\n",
        "with torch.no_grad():\n",
        "    for data in noisy_data_list:\n",
        "        out = model(data.x, data.edge_index, data.time_window)\n",
        "        preds = out.argmax(dim=1).cpu()\n",
        "        labels = data.y.cpu()\n",
        "\n",
        "        all_preds.extend(preds.tolist())\n",
        "        all_labels.extend(labels.tolist())\n",
        "\n",
        "acc = accuracy_score(all_labels, all_preds)\n",
        "prec = precision_score(all_labels, all_preds, average='weighted', zero_division=0)\n",
        "rec = recall_score(all_labels, all_preds, average='weighted', zero_division=0)\n",
        "f1 = f1_score(all_labels, all_preds, average='weighted', zero_division=0)\n",
        "\n",
        "print(f\"Final Model Metrics -> Accuracy: {acc:.4f}, Precision: {prec:.4f}, Recall: {rec:.4f}, F1 Score: {f1:.4f}\")\n"
      ],
      "metadata": {
        "colab": {
          "base_uri": "https://localhost:8080/"
        },
        "id": "41W9x3fp3xXh",
        "outputId": "cb4df675-fa08-4512-fc38-e5a15358fa72"
      },
      "execution_count": null,
      "outputs": [
        {
          "output_type": "stream",
          "name": "stdout",
          "text": [
            "Final Model Metrics -> Accuracy: 0.7220, Precision: 0.7287, Recall: 0.7220, F1 Score: 0.7204\n"
          ]
        }
      ]
    },
    {
      "cell_type": "code",
      "source": [
        "from sklearn.metrics import confusion_matrix, ConfusionMatrixDisplay\n",
        "\n",
        "cm = confusion_matrix(all_labels, all_preds)\n",
        "disp = ConfusionMatrixDisplay(confusion_matrix=cm)\n",
        "disp.plot(cmap='Blues', xticks_rotation=45)\n",
        "plt.title(\"Confusion Matrix\")\n",
        "plt.show()\n"
      ],
      "metadata": {
        "colab": {
          "base_uri": "https://localhost:8080/",
          "height": 474
        },
        "id": "B8WLgQ6RDu2O",
        "outputId": "35d9dcc7-b7ac-4655-b307-de7f6a883f17"
      },
      "execution_count": null,
      "outputs": [
        {
          "output_type": "display_data",
          "data": {
            "text/plain": [
              "<Figure size 640x480 with 2 Axes>"
            ],
            "image/png": "[encoded data removed]"
          },
          "metadata": {}
        }
      ]
    },
    {
      "cell_type": "markdown",
      "metadata": {
        "id": "1KdpiDIDSuLk"
      },
      "source": [
        "Training Loop with Causal Training:"
      ]
    },
    {
      "cell_type": "markdown",
      "metadata": {
        "id": "MMpuE801UEa0"
      },
      "source": [
        "How to Verify:\n",
        "After you inject noise and assign the time_window to each data object:"
      ]
    },
    {
      "cell_type": "markdown",
      "metadata": {
        "id": "X7bRFbq6UQmZ"
      },
      "source": [
        "Experiment with Strict vs. Non-Strict Causality:\n",
        "Non-Strict Causality (<=): Allows nodes to consider neighbors from the current window (i.e., nodes can influence each other within the same time window).\n",
        "\n",
        "Strict Causality (<): Prevents nodes from considering neighbors from the same window (i.e., nodes can only influence past time windows)."
      ]
    },
    {
      "cell_type": "markdown",
      "metadata": {
        "id": "71srxivCVp9H"
      },
      "source": [
        "Full Code for Training Loop with Causal Sampling:"
      ]
    },
    {
      "cell_type": "markdown",
      "metadata": {
        "id": "-0uqDGSnVwL4"
      },
      "source": [
        "Summary:\n",
        "The time_window should be an attribute of each Data object.\n",
        "\n",
        "When performing causal sampling during the training or forward pass, reference the time_window correctly using the data.time_window[row] format.\n",
        "\n",
        "Correctly apply the mask based on your causality preference (<= for non-strict, < for strict)."
      ]
    },
    {
      "cell_type": "markdown",
      "metadata": {
        "id": "5x88qzAEWSuV"
      },
      "source": [
        "1. Aggregation of Valid Neighbors:\n",
        "We will aggregate features from valid neighbors based on the causal mask. For simplicity, let's assume you're summing the features of valid neighbors. If you want to experiment with other aggregation methods like average or max, you can easily modify this logic.\n",
        "\n",
        "2. Update Node Representations:\n",
        "After aggregating the valid neighbors, we combine the node's features with the aggregated features (as typically done in GraphSAGE).\n",
        "\n",
        "3. Complete Forward Pass:\n",
        "The forward pass will involve processing each graph in noisy_data_list, applying the aggregation logic, and passing the updated node representations through the model.\n",
        "\n",
        "4. Training Loop:\n",
        "We’ll set up the training loop using your loss function (CrossEntropyLoss) and optimizer (Adam). We'll update the model's weights and compute the loss after each batch.\n",
        "\n",
        "5. Evaluation:\n",
        "After training, we’ll evaluate the model on a test set, and you can experiment with different metrics based on your task."
      ]
    },
    {
      "cell_type": "code",
      "execution_count": null,
      "metadata": {
        "id": "GA-p4IpyZLvl",
        "colab": {
          "base_uri": "https://localhost:8080/"
        },
        "outputId": "c9be1fea-4c13-41f2-8de9-6b9e2fa0c49b"
      },
      "outputs": [
        {
          "output_type": "stream",
          "name": "stdout",
          "text": [
            "Shape of features in the first window: torch.Size([10, 55])\n"
          ]
        }
      ],
      "source": [
        "print(f\"Shape of features in the first window: {noisy_data_list[0].x.shape}\")"
      ]
    },
    {
      "cell_type": "code",
      "execution_count": null,
      "metadata": {
        "id": "3j7ju8gkWTNo",
        "colab": {
          "base_uri": "https://localhost:8080/",
          "height": 1000
        },
        "outputId": "73a79f18-4d2d-4f50-8099-9ed38a42f62b"
      },
      "outputs": [
        {
          "output_type": "stream",
          "name": "stdout",
          "text": [
            "Epoch 1/20 - Loss: 38.2836 | Acc: 0.5140 | Precision: 0.5172 | Recall: 0.5140 | F1: 0.5097\n",
            "Epoch 2/20 - Loss: 35.8268 | Acc: 0.5120 | Precision: 0.5113 | Recall: 0.5120 | F1: 0.5111\n",
            "Epoch 3/20 - Loss: 34.2291 | Acc: 0.5560 | Precision: 0.5557 | Recall: 0.5560 | F1: 0.5556\n",
            "Epoch 4/20 - Loss: 33.2552 | Acc: 0.5960 | Precision: 0.5960 | Recall: 0.5960 | F1: 0.5944\n",
            "Epoch 5/20 - Loss: 32.4049 | Acc: 0.6100 | Precision: 0.6098 | Recall: 0.6100 | F1: 0.6095\n",
            "Epoch 6/20 - Loss: 31.1745 | Acc: 0.6540 | Precision: 0.6539 | Recall: 0.6540 | F1: 0.6536\n",
            "Epoch 7/20 - Loss: 29.9228 | Acc: 0.6580 | Precision: 0.6579 | Recall: 0.6580 | F1: 0.6578\n",
            "Epoch 8/20 - Loss: 29.4473 | Acc: 0.6720 | Precision: 0.6719 | Recall: 0.6720 | F1: 0.6719\n",
            "Epoch 9/20 - Loss: 28.1881 | Acc: 0.7020 | Precision: 0.7019 | Recall: 0.7020 | F1: 0.7019\n",
            "Epoch 10/20 - Loss: 27.6675 | Acc: 0.7080 | Precision: 0.7083 | Recall: 0.7080 | F1: 0.7080\n",
            "Epoch 11/20 - Loss: 26.1037 | Acc: 0.7460 | Precision: 0.7460 | Recall: 0.7460 | F1: 0.7459\n",
            "Epoch 12/20 - Loss: 26.4448 | Acc: 0.7160 | Precision: 0.7160 | Recall: 0.7160 | F1: 0.7160\n",
            "Epoch 13/20 - Loss: 25.2540 | Acc: 0.7500 | Precision: 0.7500 | Recall: 0.7500 | F1: 0.7500\n",
            "Epoch 14/20 - Loss: 25.0987 | Acc: 0.7400 | Precision: 0.7401 | Recall: 0.7400 | F1: 0.7400\n",
            "Epoch 15/20 - Loss: 24.5625 | Acc: 0.7500 | Precision: 0.7500 | Recall: 0.7500 | F1: 0.7500\n",
            "Epoch 16/20 - Loss: 27.7037 | Acc: 0.7140 | Precision: 0.7141 | Recall: 0.7140 | F1: 0.7140\n",
            "Epoch 17/20 - Loss: 25.1664 | Acc: 0.7380 | Precision: 0.7384 | Recall: 0.7380 | F1: 0.7380\n",
            "Epoch 18/20 - Loss: 23.8014 | Acc: 0.7320 | Precision: 0.7323 | Recall: 0.7320 | F1: 0.7320\n",
            "Epoch 19/20 - Loss: 21.6898 | Acc: 0.7780 | Precision: 0.7795 | Recall: 0.7780 | F1: 0.7774\n",
            "Epoch 20/20 - Loss: 24.8437 | Acc: 0.7280 | Precision: 0.7280 | Recall: 0.7280 | F1: 0.7278\n"
          ]
        },
        {
          "output_type": "display_data",
          "data": {
            "text/plain": [
              "<Figure size 1200x800 with 2 Axes>"
            ],
            "image/png": "[encoded data removed]"
          },
          "metadata": {}
        },
        {
          "output_type": "stream",
          "name": "stdout",
          "text": [
            "Model saved to /content/drive/MyDrive/Malware/causal_graphsage_model.pth\n"
          ]
        }
      ],
      "source": [
        "import torch\n",
        "import torch.nn.functional as F\n",
        "from torch_geometric.nn import SAGEConv\n",
        "from sklearn.metrics import accuracy_score, precision_recall_fscore_support\n",
        "import matplotlib.pyplot as plt\n",
        "\n",
        "class CausalGraphSAGE(torch.nn.Module):\n",
        "    def __init__(self, in_channels, hidden_channels, out_channels):\n",
        "        super(CausalGraphSAGE, self).__init__()\n",
        "        self.conv1 = SAGEConv(in_channels, hidden_channels)\n",
        "        self.conv2 = SAGEConv(hidden_channels, out_channels)\n",
        "\n",
        "    def forward(self, x, edge_index, time_window):\n",
        "        row, col = edge_index\n",
        "        mask = time_window[row] < time_window[col]  # strict causal edges\n",
        "        filtered_edge_index = edge_index[:, mask]\n",
        "\n",
        "        x = F.relu(self.conv1(x, filtered_edge_index))\n",
        "        x = self.conv2(x, filtered_edge_index)\n",
        "        return x\n",
        "\n",
        "# Assume noisy_data_list is defined with time_window added\n",
        "for t, data in enumerate(noisy_data_list):\n",
        "    if not hasattr(data, 'time_window'):\n",
        "        data.time_window = torch.full((data.num_nodes,), t, dtype=torch.long)\n",
        "\n",
        "# Hyperparameters\n",
        "in_channels = 55\n",
        "hidden_channels = 32\n",
        "out_channels = 2\n",
        "learning_rate = 0.01\n",
        "num_epochs = 20\n",
        "\n",
        "# Initialize model, optimizer, loss\n",
        "model = CausalGraphSAGE(in_channels, hidden_channels, out_channels)\n",
        "optimizer = torch.optim.Adam(model.parameters(), lr=learning_rate)\n",
        "loss_fn = torch.nn.CrossEntropyLoss()\n",
        "\n",
        "# To store metrics per epoch for plotting\n",
        "epoch_losses = []\n",
        "epoch_accuracies = []\n",
        "epoch_precisions = []\n",
        "epoch_recalls = []\n",
        "epoch_f1s = []\n",
        "\n",
        "for epoch in range(num_epochs):\n",
        "    model.train()\n",
        "    total_loss = 0\n",
        "    all_preds = []\n",
        "    all_labels = []\n",
        "\n",
        "    for t, data in enumerate(noisy_data_list):\n",
        "        optimizer.zero_grad()\n",
        "\n",
        "        out = model(data.x, data.edge_index, data.time_window)  # [num_nodes, out_channels]\n",
        "\n",
        "        # Assuming data.y is the label tensor of shape [num_nodes] or [1] per graph\n",
        "        loss = loss_fn(out, data.y)\n",
        "        loss.backward()\n",
        "        optimizer.step()\n",
        "        total_loss += loss.item()\n",
        "\n",
        "        # Predictions and labels for metrics\n",
        "        preds = out.argmax(dim=1).cpu()\n",
        "        labels = data.y.cpu()\n",
        "        all_preds.extend(preds.tolist())\n",
        "        all_labels.extend(labels.tolist())\n",
        "\n",
        "    # Calculate metrics for this epoch\n",
        "    acc = accuracy_score(all_labels, all_preds)\n",
        "    precision, recall, f1, _ = precision_recall_fscore_support(all_labels, all_preds, average='weighted', zero_division=0)\n",
        "\n",
        "    epoch_losses.append(total_loss)\n",
        "    epoch_accuracies.append(acc)\n",
        "    epoch_precisions.append(precision)\n",
        "    epoch_recalls.append(recall)\n",
        "    epoch_f1s.append(f1)\n",
        "\n",
        "    print(f\"Epoch {epoch+1}/{num_epochs} - Loss: {total_loss:.4f} | Acc: {acc:.4f} | Precision: {precision:.4f} | Recall: {recall:.4f} | F1: {f1:.4f}\")\n",
        "\n",
        "# Plotting training curves\n",
        "plt.figure(figsize=(12, 8))\n",
        "\n",
        "plt.subplot(2, 1, 1)\n",
        "plt.plot(range(1, num_epochs+1), epoch_losses, label='Loss', color='red')\n",
        "plt.xlabel('Epoch')\n",
        "plt.ylabel('Loss')\n",
        "plt.title('Training Loss over Epochs')\n",
        "plt.legend()\n",
        "\n",
        "plt.subplot(2, 1, 2)\n",
        "plt.plot(range(1, num_epochs+1), epoch_accuracies, label='Accuracy')\n",
        "plt.plot(range(1, num_epochs+1), epoch_precisions, label='Precision')\n",
        "plt.plot(range(1, num_epochs+1), epoch_recalls, label='Recall')\n",
        "plt.plot(range(1, num_epochs+1), epoch_f1s, label='F1 Score')\n",
        "plt.xlabel('Epoch')\n",
        "plt.ylabel('Score')\n",
        "plt.title('Metrics over Epochs')\n",
        "plt.legend()\n",
        "\n",
        "plt.tight_layout()\n",
        "plt.show()\n",
        "# Save the model state dict\n",
        "torch.save(model.state_dict(), \"/content/drive/MyDrive/Malware/casual_graphsage_model.pth\")\n",
        "print(\"Model saved to /content/drive/MyDrive/Malware/casual_graphsage_model.pth\")\n"
      ]
    },
    {
      "cell_type": "code",
      "source": [
        "import torch.nn.functional as F\n",
        "from sklearn.metrics import roc_auc_score\n",
        "\n",
        "model.eval()\n",
        "all_probs = []\n",
        "all_labels = []\n",
        "\n",
        "with torch.no_grad():\n",
        "    for data in noisy_data_list:\n",
        "        out = model(data.x, data.edge_index, data.time_window)  # raw logits\n",
        "        probs = F.softmax(out, dim=1)  # convert logits to probabilities\n",
        "        all_probs.append(probs.cpu())\n",
        "        all_labels.append(data.y.cpu())\n",
        "\n",
        "# Concatenate all batches\n",
        "all_probs = torch.cat(all_probs, dim=0).numpy()\n",
        "all_labels = torch.cat(all_labels, dim=0).numpy()\n",
        "# for binary classification (assuming classes 0 and 1):\n",
        "auc = roc_auc_score(all_labels, all_probs[:, 1])  # probability for class 1\n",
        "print(f\"AUC-ROC: {auc:.4f}\")"
      ],
      "metadata": {
        "colab": {
          "base_uri": "https://localhost:8080/",
          "height": 211
        },
        "id": "ltIoQ4y7LuXy",
        "outputId": "871ddecb-8088-4ecb-e1c8-f2b80aeb8b2f"
      },
      "execution_count": null,
      "outputs": [
        {
          "output_type": "error",
          "ename": "NameError",
          "evalue": "name 'model' is not defined",
          "traceback": [
            "\u001b[0;31m---------------------------------------------------------------------------\u001b[0m",
            "\u001b[0;31mNameError\u001b[0m                                 Traceback (most recent call last)",
            "\u001b[0;32m<ipython-input-3-bdff55d01f51>\u001b[0m in \u001b[0;36m<cell line: 0>\u001b[0;34m()\u001b[0m\n\u001b[1;32m      2\u001b[0m \u001b[0;32mfrom\u001b[0m \u001b[0msklearn\u001b[0m\u001b[0;34m.\u001b[0m\u001b[0mmetrics\u001b[0m \u001b[0;32mimport\u001b[0m \u001b[0mroc_auc_score\u001b[0m\u001b[0;34m\u001b[0m\u001b[0;34m\u001b[0m\u001b[0m\n\u001b[1;32m      3\u001b[0m \u001b[0;34m\u001b[0m\u001b[0m\n\u001b[0;32m----> 4\u001b[0;31m \u001b[0mmodel\u001b[0m\u001b[0;34m.\u001b[0m\u001b[0meval\u001b[0m\u001b[0;34m(\u001b[0m\u001b[0;34m)\u001b[0m\u001b[0;34m\u001b[0m\u001b[0;34m\u001b[0m\u001b[0m\n\u001b[0m\u001b[1;32m      5\u001b[0m \u001b[0mall_probs\u001b[0m \u001b[0;34m=\u001b[0m \u001b[0;34m[\u001b[0m\u001b[0;34m]\u001b[0m\u001b[0;34m\u001b[0m\u001b[0;34m\u001b[0m\u001b[0m\n\u001b[1;32m      6\u001b[0m \u001b[0mall_labels\u001b[0m \u001b[0;34m=\u001b[0m \u001b[0;34m[\u001b[0m\u001b[0;34m]\u001b[0m\u001b[0;34m\u001b[0m\u001b[0;34m\u001b[0m\u001b[0m\n",
            "\u001b[0;31mNameError\u001b[0m: name 'model' is not defined"
          ]
        }
      ]
    },
    {
      "cell_type": "markdown",
      "source": [
        "Plotting the ROC Curve"
      ],
      "metadata": {
        "id": "qxSNJN0NMloV"
      }
    },
    {
      "cell_type": "code",
      "source": [
        "import matplotlib.pyplot as plt\n",
        "from sklearn.metrics import roc_curve, auc\n",
        "\n",
        "# Get false positive rate (fpr), true positive rate (tpr), thresholds\n",
        "fpr, tpr, thresholds = roc_curve(all_labels, all_probs[:, 1])\n",
        "\n",
        "# Calculate AUC (just to confirm)\n",
        "roc_auc = auc(fpr, tpr)\n",
        "\n",
        "# Plot\n",
        "plt.figure(figsize=(8,6))\n",
        "plt.plot(fpr, tpr, color='blue', lw=2, label=f'ROC curve (area = {roc_auc:.4f})')\n",
        "plt.plot([0, 1], [0, 1], color='grey', lw=1, linestyle='--')  # diagonal line\n",
        "plt.xlim([0.0, 1.0])\n",
        "plt.ylim([0.0, 1.05])\n",
        "plt.xlabel('False Positive Rate')\n",
        "plt.ylabel('True Positive Rate')\n",
        "plt.title('Receiver Operating Characteristic (ROC) Curve')\n",
        "plt.legend(loc=\"lower right\")\n",
        "plt.grid(True)\n",
        "plt.show()\n"
      ],
      "metadata": {
        "colab": {
          "base_uri": "https://localhost:8080/",
          "height": 564
        },
        "id": "r1a8SxmmMkss",
        "outputId": "44624c16-e6eb-4d17-84de-a60b017426f2"
      },
      "execution_count": null,
      "outputs": [
        {
          "output_type": "display_data",
          "data": {
            "text/plain": [
              "<Figure size 800x600 with 1 Axes>"
            ],
            "image/png": "[encoded data removed]"
          },
          "metadata": {}
        }
      ]
    },
    {
      "cell_type": "markdown",
      "metadata": {
        "id": "Zf4yNl88bxb9"
      },
      "source": [
        "Implementing Out-of-Distribution (OOD) Testing\n",
        "\n",
        "---The approach here will be to treat the 80% training data as your \"in-distribution\" data and the 20% validation data as a limited proxy for \"out-of-distribution\" data. However, it's crucial to remember the limitations: this is not true OOD as it's still from the same original dataset.\n",
        "\n"
      ]
    },
    {
      "cell_type": "code",
      "source": [
        "from google.colab import drive\n",
        "drive.mount('/content/drive')\n",
        "import torch\n",
        "\n",
        "# Path to your unseen dataset file\n",
        "dataset_path = \"/content/drive/MyDrive/Malware/ood_data.xlsx\"\n",
        "import pandas as pd\n",
        "import torch\n",
        "from torch_geometric.data import Data\n",
        "from sklearn.metrics.pairwise import cosine_similarity\n",
        "from sklearn.preprocessing import LabelEncoder, StandardScaler\n",
        "import numpy as np\n",
        "\n",
        "# Extract features and labels\n",
        "features = df.iloc[:, 1:].values\n",
        "filenames = df['Filename']\n",
        "\n",
        "# Encode labels (e.g., 'Spyware-TIBS' -> 'Spyware')\n",
        "labels = filenames.str.extract(r'(\\w+)-')[0]\n",
        "le = LabelEncoder()\n",
        "y = le.fit_transform(labels)\n",
        "\n",
        "# Scale features\n",
        "scaler = StandardScaler()\n",
        "features = scaler.fit_transform(features)\n",
        "\n",
        "# Create edges based on similarity\n",
        "sim_matrix = cosine_similarity(features)\n",
        "k = 5  # k nearest neighbors\n",
        "\n",
        "# Creating time windows of 10 rows each (85 windows for 851 rows)\n",
        "window_size = 10\n",
        "num_windows = len(df) // window_size  # Total windows = 851 / 10 = 85\n",
        "data_list = []\n",
        "# Create a writer object to write data to a single Excel file\n",
        "with pd.ExcelWriter('/content/drive/MyDrive/Malware/all_windows_ood.xlsx') as writer:\n",
        "    # Store data for each time window in a list\n",
        "    for window in range(num_windows):\n",
        "        start_idx = window * window_size\n",
        "        end_idx = (window + 1) * window_size\n",
        "\n",
        "        # Extract features for the current window\n",
        "        window_features = features[start_idx:end_idx]\n",
        "        window_labels = y[start_idx:end_idx]\n",
        "\n",
        "        # Create a similarity matrix for this window\n",
        "        sim_matrix_window = cosine_similarity(window_features)\n",
        "\n",
        "        # Generate edges for this window based on similarity\n",
        "        edge_index_window = []\n",
        "        for i in range(len(sim_matrix_window)):\n",
        "            top_k = np.argsort(sim_matrix_window[i])[-(k+1):-1]  # Skip self-loop\n",
        "            for j in top_k:\n",
        "                edge_index_window.append([i, j])\n",
        "\n",
        "        # Convert to tensor\n",
        "        edge_index_window = torch.tensor(edge_index_window, dtype=torch.long).t().contiguous()\n",
        "        x_window = torch.tensor(window_features, dtype=torch.float)\n",
        "        y_window = torch.tensor(window_labels, dtype=torch.long)\n",
        "\n",
        "        # Create PyG Data object for this window\n",
        "        data_window = Data(x=x_window, edge_index=edge_index_window, y=y_window)\n",
        "        # Append this window data to the list\n",
        "        data_list.append(data_window)\n",
        "        # Convert x (features) to DataFrame and save to Excel (one sheet per window)\n",
        "        df_x = pd.DataFrame(x_window.numpy())  # Convert tensor to numpy and then to DataFrame\n",
        "        df_x.to_excel(writer, sheet_name=f'Window1_{window}_Features', index=False)\n",
        "\n",
        "        # Convert edge_index (edges) to DataFrame (source, target) and save to Excel\n",
        "        df_edges = pd.DataFrame(edge_index_window.numpy().T, columns=[\"Source\", \"Target\"])\n",
        "        df_edges.to_excel(writer, sheet_name=f'Window1_{window}_Edges', index=False)\n",
        "\n",
        "        # Convert y (labels) to DataFrame and save to Excel\n",
        "        df_y = pd.DataFrame(y_window.numpy(), columns=[\"Labels\"])\n",
        "        df_y.to_excel(writer, sheet_name=f'Window1_{window}_Labels', index=False)\n",
        "\n",
        "# The Excel file will now contain multiple sheets: one for each window's features, edges, and labels"
      ],
      "metadata": {
        "colab": {
          "base_uri": "https://localhost:8080/"
        },
        "id": "iimVByRRHSye",
        "outputId": "75159af5-eb50-4027-efd3-6fad1bc2ba88"
      },
      "execution_count": null,
      "outputs": [
        {
          "output_type": "stream",
          "name": "stdout",
          "text": [
            "Drive already mounted at /content/drive; to attempt to forcibly remount, call drive.mount(\"/content/drive\", force_remount=True).\n"
          ]
        }
      ]
    },
    {
      "cell_type": "code",
      "source": [
        "from google.colab import drive\n",
        "drive.mount('/content/drive')\n",
        "\n",
        "import pandas as pd\n",
        "import numpy as np\n",
        "import torch\n",
        "from torch_geometric.data import Data\n",
        "from sklearn.preprocessing import LabelEncoder, StandardScaler\n",
        "from sklearn.metrics.pairwise import cosine_similarity\n",
        "from sklearn.metrics import accuracy_score, precision_recall_fscore_support\n",
        "\n",
        "device = torch.device('cuda' if torch.cuda.is_available() else 'cpu')\n",
        "\n",
        "# Load OOD dataset\n",
        "dataset_path = \"/content/drive/MyDrive/Malware/ood_data.xlsx\"\n",
        "df = pd.read_excel(dataset_path)\n",
        "\n",
        "# Extract features and labels\n",
        "features = df.iloc[:, 1:].values\n",
        "filenames = df['Filename']\n",
        "\n",
        "# Encode labels (e.g., 'Spyware-TIBS' -> 'Spyware')\n",
        "labels = filenames.str.extract(r'(\\w+)-')[0]\n",
        "le = LabelEncoder()\n",
        "y = le.fit_transform(labels)\n",
        "\n",
        "# Scale features\n",
        "scaler = StandardScaler()\n",
        "features = scaler.fit_transform(features)\n",
        "\n",
        "# Create edges based on similarity (kNN)\n",
        "k = 5\n",
        "window_size = 10\n",
        "num_windows = len(df) // window_size\n",
        "\n",
        "data_list = []\n",
        "\n",
        "for window in range(num_windows):\n",
        "    start_idx = window * window_size\n",
        "    end_idx = (window + 1) * window_size\n",
        "\n",
        "    window_features = features[start_idx:end_idx]\n",
        "    window_labels = y[start_idx:end_idx]\n",
        "\n",
        "    sim_matrix_window = cosine_similarity(window_features)\n",
        "\n",
        "    edge_index_window = []\n",
        "    for i in range(len(sim_matrix_window)):\n",
        "        top_k = np.argsort(sim_matrix_window[i])[-(k+1):-1]  # skip self loop\n",
        "        for j in top_k:\n",
        "            edge_index_window.append([i, j])\n",
        "\n",
        "    edge_index_window = torch.tensor(edge_index_window, dtype=torch.long).t().contiguous()\n",
        "    x_window = torch.tensor(window_features, dtype=torch.float)\n",
        "    y_window = torch.tensor(window_labels, dtype=torch.long)\n",
        "\n",
        "    data_window = Data(x=x_window, edge_index=edge_index_window, y=y_window)\n",
        "    data_list.append(data_window)\n",
        "\n",
        "# Define or import your model class CausalGraphSAGE before this point\n",
        "# from your_model_file import CausalGraphSAGE\n",
        "\n",
        "model = CausalGraphSAGE(in_channels=features.shape[1], hidden_channels=32, out_channels=2)\n",
        "model.load_state_dict(torch.load(\"/content/drive/MyDrive/Malware/causal_graphsage_model.pth\"))\n",
        "model.to(device)\n",
        "model.eval()\n",
        "\n",
        "# Normal inference on OOD data\n",
        "all_probs = []\n",
        "all_labels = []\n",
        "\n",
        "with torch.no_grad():\n",
        "    for t, data in enumerate(data_list):\n",
        "        data = data.to(device)\n",
        "        data.time_window = torch.full((data.num_nodes,), t, dtype=torch.long, device=device)\n",
        "        out = model(data.x, data.edge_index, data.time_window)\n",
        "        probs = torch.softmax(out, dim=-1).cpu()\n",
        "        all_probs.append(probs)\n",
        "        all_labels.extend(data.y.tolist())\n",
        "\n",
        "all_probs = torch.cat(all_probs, dim=-2)\n",
        "all_preds = all_probs.argmax(dim=1).tolist()\n",
        "\n",
        "acc = accuracy_score(all_labels, all_preds)\n",
        "precision, recall, f1, _ = precision_recall_fscore_support(all_labels, all_preds, average='weighted', zero_division=0)\n",
        "print(f\"Normal Inference Metrics -> Accuracy: {acc:.4f}, Precision: {precision:.4f}, Recall: {recall:.4f}, F1: {f1:.4f}\")\n",
        "\n",
        "# MC Dropout inference function\n",
        "def mc_dropout_predict(model, data, T=-10):\n",
        "    model.train()  # enable dropout during inference\n",
        "    probs = []\n",
        "    for _ in range(T):\n",
        "        out = model(data.x, data.edge_index, data.time_window)\n",
        "        prob = torch.softmax(out, dim=-2)\n",
        "        probs.append(prob)\n",
        "    avg_prob = torch.stack(probs).mean(dim=0)\n",
        "    return avg_prob\n",
        "\n",
        "# MC Dropout inference on OOD data\n",
        "all_mc_probs = []\n",
        "all_mc_labels = []\n",
        "\n",
        "with torch.no_grad():\n",
        "    for t, data in enumerate(data_list):\n",
        "        data = data.to(device)\n",
        "        data.time_window = torch.full((data.num_nodes,), t, dtype=torch.long, device=device)\n",
        "        avg_prob = mc_dropout_predict(model, data, T=1).cpu()\n",
        "        all_mc_probs.append(avg_prob)\n",
        "        all_mc_labels.extend(data.y.tolist())\n",
        "\n",
        "all_mc_probs = torch.cat(all_mc_probs, dim=0)\n",
        "all_mc_preds = all_mc_probs.argmax(dim=1).tolist()\n",
        "\n",
        "acc_mc = accuracy_score(all_mc_labels, all_mc_preds)\n",
        "precision_mc, recall_mc, f1_mc, _ = precision_recall_fscore_support(all_mc_labels, all_mc_preds, average='weighted', zero_division=0)\n",
        "print(f\"MC Dropout Inference Metrics -> Accuracy: {acc_mc:.4f}, Precision: {precision_mc:.4f}, Recall: {recall_mc:.4f}, F1: {f1_mc:.4f}\")\n"
      ],
      "metadata": {
        "colab": {
          "base_uri": "https://localhost:8080/"
        },
        "id": "4yXzUQ9EKqDE",
        "outputId": "942cabd3-6542-4854-964e-7182d4413765"
      },
      "execution_count": null,
      "outputs": [
        {
          "output_type": "stream",
          "name": "stdout",
          "text": [
            "Drive already mounted at /content/drive; to attempt to forcibly remount, call drive.mount(\"/content/drive\", force_remount=True).\n",
            "Normal Inference Metrics -> Accuracy: 0.5657, Precision: 1.0000, Recall: 0.5657, F1: 0.7226\n",
            "MC Dropout Inference Metrics -> Accuracy: 0.5114, Precision: 1.0000, Recall: 0.5114, F1: 0.6767\n"
          ]
        }
      ]
    }
  ],
  "metadata": {
    "colab": {
      "provenance": []
    },
    "kernelspec": {
      "display_name": "Python 3",
      "name": "python3"
    },
    "language_info": {
      "name": "python"
    }
  },
  "nbformat": 4,
  "nbformat_minor": 0
}